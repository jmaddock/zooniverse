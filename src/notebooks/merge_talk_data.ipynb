{
 "cells": [
  {
   "cell_type": "code",
   "execution_count": 1,
   "metadata": {
    "collapsed": true,
    "deletable": true,
    "editable": true
   },
   "outputs": [],
   "source": [
    "%matplotlib inline\n",
    "\n",
    "import pandas as pd\n",
    "import matplotlib.pyplot as plt\n",
    "import matplotlib\n",
    "import numpy as np\n",
    "matplotlib.style.use('ggplot')\n",
    "\n",
    "import requests\n",
    "import json\n",
    "from ast import literal_eval"
   ]
  },
  {
   "cell_type": "code",
   "execution_count": 2,
   "metadata": {
    "collapsed": false,
    "deletable": true,
    "editable": true
   },
   "outputs": [],
   "source": [
    "panoptes_comments = pd.read_csv('/srv/zooniverse/raw_data/panoptes/panoptes_comments_2017-03-21.csv')"
   ]
  },
  {
   "cell_type": "code",
   "execution_count": 3,
   "metadata": {
    "collapsed": false,
    "deletable": true,
    "editable": true
   },
   "outputs": [],
   "source": [
    "panoptes_comments = panoptes_comments.rename(columns={'id':'comment_id',\n",
    "                                                      'focus_type':'focus_base_type',\n",
    "                                                      'user_login':'user_name',\n",
    "                                                      'mentioning':'mentions',\n",
    "                                                      'tagging':'tags',\n",
    "                                                      'reply_id':'response_to_id',\n",
    "                                                      'project_id':'panoptes_project_id'})\n",
    "panoptes_comments['panoptes_dump'] = 1"
   ]
  },
  {
   "cell_type": "code",
   "execution_count": 4,
   "metadata": {
    "collapsed": false,
    "deletable": true,
    "editable": true
   },
   "outputs": [],
   "source": [
    "panoptes_comments = panoptes_comments[['comment_id','body','focus_id','focus_base_type','discussion_id','user_id','user_name','created_at','mentions','tags','panoptes_project_id','response_to_id','board_id','panoptes_dump']]"
   ]
  },
  {
   "cell_type": "code",
   "execution_count": 5,
   "metadata": {
    "collapsed": false,
    "deletable": true,
    "editable": true
   },
   "outputs": [],
   "source": [
    "ouroboros_comments = pd.read_csv('/srv/zooniverse/tables/ouroboros_discussion_table_100000.csv')"
   ]
  },
  {
   "cell_type": "code",
   "execution_count": 6,
   "metadata": {
    "collapsed": false,
    "deletable": true,
    "editable": true
   },
   "outputs": [],
   "source": [
    "# create temp series with comments list expanded into individual rows, indexed by discussion\n",
    "ouroboros_comments_temp = ouroboros_comments.apply(lambda x: pd.Series(json.loads(x['comments'])),axis=1).stack().reset_index(level=1, drop=True)\n",
    "# rename the series for merging\n",
    "ouroboros_comments_temp.name = 'comment'\n",
    "# merge with discussion df\n",
    "ouroboros_comments = ouroboros_comments.drop('comments',axis=1).join(ouroboros_comments_temp)\n",
    "# rename fields\n",
    "ouroboros_comments = ouroboros_comments.rename(columns={'_id':'discussion_id',\n",
    "                                                        'focus':'discussion_focus',\n",
    "                                                        'project_id':'ouroboros_mongo_id'})\n",
    "# reset the index for expantion of discussion column\n",
    "ouroboros_comments = ouroboros_comments.reset_index(drop=True)\n",
    "# drop meta columns\n",
    "ouroboros_comments = ouroboros_comments[['board','discussion_id','discussion_focus','ouroboros_mongo_id','comment']]"
   ]
  },
  {
   "cell_type": "code",
   "execution_count": 7,
   "metadata": {
    "collapsed": false,
    "deletable": true,
    "editable": true
   },
   "outputs": [
    {
     "name": "stderr",
     "output_type": "stream",
     "text": [
      "/home/sjm668/dev/zooniverse/src/venv/lib/python3.5/site-packages/pandas/indexes/api.py:37: RuntimeWarning: unorderable types: int() > str(), sort order is undefined for incomparable objects\n",
      "  union = _union_indexes(indexes)\n",
      "/home/sjm668/dev/zooniverse/src/venv/lib/python3.5/site-packages/pandas/indexes/api.py:37: RuntimeWarning: unorderable types: str() > int(), sort order is undefined for incomparable objects\n",
      "  union = _union_indexes(indexes)\n",
      "/home/sjm668/dev/zooniverse/src/venv/lib/python3.5/site-packages/pandas/indexes/api.py:71: RuntimeWarning: unorderable types: str() > int(), sort order is undefined for incomparable objects\n",
      "  result = result.union(other)\n"
     ]
    }
   ],
   "source": [
    "# expand the discussion column into multiple rows\n",
    "ouroboros_comments_temp = ouroboros_comments['comment'].apply(pd.Series)\n"
   ]
  },
  {
   "cell_type": "code",
   "execution_count": null,
   "metadata": {
    "collapsed": true
   },
   "outputs": [],
   "source": []
  },
  {
   "cell_type": "code",
   "execution_count": 18,
   "metadata": {
    "collapsed": false,
    "deletable": true,
    "editable": true
   },
   "outputs": [],
   "source": [
    "# expand the focus column into multiple rows\n",
    "ouroboros_comments_temp = ouroboros_comments['discussion_focus'].apply(lambda x: pd.Series(json.loads(x)))\n",
    "# rename the _id field and base_type fields\n",
    "ouroboros_comments_temp = ouroboros_comments_temp.rename(columns={'_id':'focus_id','base_type':'focus_base_type'})\n",
    "ouroboros_comments_temp = ouroboros_comments_temp[['focus_id','focus_base_type']]\n",
    "# merge discussion meta data with expanded comment df\n",
    "ouroboros_comments = ouroboros_comments.merge(ouroboros_comments_temp,right_index=True,left_index=True)\n",
    "# drop old comment field\n",
    "ouroboros_comments = ouroboros_comments.drop('discussion_focus',axis=1)"
   ]
  },
  {
   "cell_type": "code",
   "execution_count": 19,
   "metadata": {
    "collapsed": false,
    "deletable": true,
    "editable": true
   },
   "outputs": [],
   "source": [
    "# remove dict keys for dicts stored as string\n",
    "def expand_text_field(text_field):\n",
    "    return text_field.split(':')[1].split(\"'\")[1]\n",
    "\n",
    "# remove dict keys for dicts stored as dict, add ObjectId text for consistancy w/ mongo\n",
    "def expand_oid_dict_field(dict_field):\n",
    "    try:\n",
    "        dict_field = literal_eval(dict_field)\n",
    "        if '_id' in dict_field:\n",
    "            return 'ObjectId({0})'.format(dict_field['_id'])\n",
    "    except ValueError:\n",
    "        return None\n",
    "    except TypeError:\n",
    "        return None\n",
    "\n",
    "# remove dict keys for dicts stored as dict,    \n",
    "def expand_datetime_dict_field(dict_field):\n",
    "    if type(dict_field) == dict:\n",
    "        return next(iter(dict_field.values()))\n",
    "    else:\n",
    "        return None\n",
    "    "
   ]
  },
  {
   "cell_type": "code",
   "execution_count": 20,
   "metadata": {
    "collapsed": false,
    "deletable": true,
    "editable": true
   },
   "outputs": [],
   "source": [
    "# remove dictionary formating from comment_id\n",
    "ouroboros_comments['comment_id'] = ouroboros_comments['comment_id'].apply(expand_oid_dict_field)\n",
    "# remove dictionary formatting from created_at\n",
    "ouroboros_comments['created_at'] = ouroboros_comments['created_at'].apply(expand_datetime_dict_field)\n",
    "# convert created_at to datetime object\n",
    "ouroboros_comments['created_at'] = pd.to_datetime(ouroboros_comments['created_at'])\n",
    "# remove dictionary formatting from user_id\n",
    "ouroboros_comments['user_id'] = ouroboros_comments['user_id'].apply(expand_oid_dict_field)\n",
    "# get id field from board column\n",
    "ouroboros_comments['board_id'] = ouroboros_comments['board'].apply(expand_oid_dict_field)"
   ]
  },
  {
   "cell_type": "code",
   "execution_count": 21,
   "metadata": {
    "collapsed": false,
    "deletable": true,
    "editable": true
   },
   "outputs": [],
   "source": [
    "# load project csv\n",
    "project_df = pd.read_csv('/srv/zooniverse/tables/all_projects_table_05-31-17.csv')\n",
    "# merge on ouroboros_mongo_id field to include panoptes id\n",
    "ouroboros_comments = ouroboros_comments.merge(project_df[['ouroboros_mongo_id','panoptes_project_id']],on='ouroboros_mongo_id')"
   ]
  },
  {
   "cell_type": "code",
   "execution_count": 38,
   "metadata": {
    "collapsed": false,
    "deletable": true,
    "editable": true
   },
   "outputs": [],
   "source": [
    "# add column for ouroboros info\n",
    "ouroboros_comments['ouroboros_dump'] = 1\n",
    "# drop columns\n",
    "result_df = ouroboros_comments[['board_id','discussion_id','focus_id','focus_base_type','ouroboros_mongo_id','comment_id','body','created_at','mentions','response_to','response_to_id','tags','upvotes','user_id','user_name','user_zooniverse_id','panoptes_project_id','ouroboros_dump']]"
   ]
  },
  {
   "cell_type": "code",
   "execution_count": 39,
   "metadata": {
    "collapsed": true,
    "deletable": true,
    "editable": true
   },
   "outputs": [],
   "source": [
    "result_df = result_df.append(panoptes_comments)"
   ]
  },
  {
   "cell_type": "code",
   "execution_count": 49,
   "metadata": {
    "collapsed": false,
    "deletable": true,
    "editable": true
   },
   "outputs": [],
   "source": [
    "# mark all classifications in the panoptes API == 1\n",
    "result_df.loc[result_df['panoptes_project_id'].isin(project_df.loc[project_df['panoptes_api'] == 1]['panoptes_project_id']),'panoptes_api'] = 1\n",
    "result_df.loc[result_df['panoptes_project_id'].isin(project_df.loc[project_df['panoptes_api'] == 0]['panoptes_project_id']),'panoptes_api'] = 0\n",
    "result_df.loc[result_df['panoptes_dump'].isnull(),'panoptes_dump'] = 0\n",
    "result_df.loc[result_df['ouroboros_dump'].isnull(),'ouroboros_dump'] = 0"
   ]
  },
  {
   "cell_type": "code",
   "execution_count": 58,
   "metadata": {
    "collapsed": false,
    "deletable": true,
    "editable": true
   },
   "outputs": [],
   "source": [
    "def mark_project_df(project_df,result_df):\n",
    "    project_df.loc[project_df['panoptes_project_id'].isin(result_df['panoptes_project_id']), 'talk'] = 1\n",
    "    project_df.loc[project_df['talk'].isnull(), 'talk'] = 0\n",
    "    return project_df"
   ]
  },
  {
   "cell_type": "code",
   "execution_count": 60,
   "metadata": {
    "collapsed": false,
    "deletable": true,
    "editable": true
   },
   "outputs": [
    {
     "data": {
      "text/plain": [
       "0      1.0\n",
       "1      1.0\n",
       "2      0.0\n",
       "3      1.0\n",
       "4      0.0\n",
       "5      0.0\n",
       "6      0.0\n",
       "7      0.0\n",
       "8      0.0\n",
       "9      1.0\n",
       "10     0.0\n",
       "11     1.0\n",
       "12     0.0\n",
       "13     1.0\n",
       "14     0.0\n",
       "15     1.0\n",
       "16     0.0\n",
       "17     1.0\n",
       "18     0.0\n",
       "19     0.0\n",
       "20     1.0\n",
       "21     1.0\n",
       "22     0.0\n",
       "23     0.0\n",
       "24     0.0\n",
       "25     0.0\n",
       "26     0.0\n",
       "27     1.0\n",
       "28     1.0\n",
       "29     1.0\n",
       "      ... \n",
       "863    0.0\n",
       "864    0.0\n",
       "865    1.0\n",
       "866    0.0\n",
       "867    0.0\n",
       "868    0.0\n",
       "869    0.0\n",
       "870    0.0\n",
       "871    0.0\n",
       "872    0.0\n",
       "873    0.0\n",
       "874    0.0\n",
       "875    0.0\n",
       "876    0.0\n",
       "877    0.0\n",
       "878    0.0\n",
       "879    0.0\n",
       "880    0.0\n",
       "881    0.0\n",
       "882    0.0\n",
       "883    0.0\n",
       "884    0.0\n",
       "885    0.0\n",
       "886    0.0\n",
       "887    0.0\n",
       "888    0.0\n",
       "889    0.0\n",
       "890    0.0\n",
       "891    0.0\n",
       "892    0.0\n",
       "Name: talk, dtype: float64"
      ]
     },
     "execution_count": 60,
     "metadata": {},
     "output_type": "execute_result"
    }
   ],
   "source": [
    "mark_project_df(project_df,result_df)['talk']"
   ]
  },
  {
   "cell_type": "code",
   "execution_count": null,
   "metadata": {
    "collapsed": true,
    "deletable": true,
    "editable": true
   },
   "outputs": [],
   "source": []
  }
 ],
 "metadata": {
  "kernelspec": {
   "display_name": "Python 3",
   "language": "python",
   "name": "python3"
  },
  "language_info": {
   "codemirror_mode": {
    "name": "ipython",
    "version": 3
   },
   "file_extension": ".py",
   "mimetype": "text/x-python",
   "name": "python",
   "nbconvert_exporter": "python",
   "pygments_lexer": "ipython3",
   "version": "3.5.1"
  }
 },
 "nbformat": 4,
 "nbformat_minor": 2
}
