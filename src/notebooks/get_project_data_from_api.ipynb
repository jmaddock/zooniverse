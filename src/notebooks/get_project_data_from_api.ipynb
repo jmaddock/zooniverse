{
 "cells": [
  {
   "cell_type": "code",
   "execution_count": 1,
   "metadata": {
    "collapsed": true,
    "deletable": true,
    "editable": true
   },
   "outputs": [],
   "source": [
    "%matplotlib inline\n",
    "\n",
    "import pandas as pd\n",
    "import matplotlib.pyplot as plt\n",
    "import matplotlib\n",
    "import numpy as np\n",
    "matplotlib.style.use('ggplot')\n",
    "\n",
    "import requests\n",
    "import json"
   ]
  },
  {
   "cell_type": "code",
   "execution_count": 7,
   "metadata": {
    "collapsed": false,
    "deletable": true,
    "editable": true
   },
   "outputs": [
    {
     "name": "stderr",
     "output_type": "stream",
     "text": [
      "/home/sjm668/dev/zooniverse/src/venv/lib/python3.5/site-packages/IPython/core/interactiveshell.py:2717: DtypeWarning: Columns (8) have mixed types. Specify dtype option on import or set low_memory=False.\n",
      "  interactivity=interactivity, compiler=compiler, result=result)\n"
     ]
    }
   ],
   "source": [
    "# specify data directory and file\n",
    "data_dir = '/srv/zooniverse/raw_data/panoptes/all-panoptes-classifications-2017-01-30.csv'\n",
    "# read csv file of panoptes classifications\n",
    "classification_df = pd.read_csv(data_dir)"
   ]
  },
  {
   "cell_type": "code",
   "execution_count": 8,
   "metadata": {
    "collapsed": true,
    "deletable": true,
    "editable": true
   },
   "outputs": [],
   "source": [
    "# specify data directory and file\n",
    "ouroboros_data_file = '/srv/zooniverse/tables/ouroboros_project_table_03-02-17.csv'\n",
    "# read csv file of panoptes classifications\n",
    "ouroboros_classification_df = pd.read_csv(ouroboros_data_file)"
   ]
  },
  {
   "cell_type": "code",
   "execution_count": 9,
   "metadata": {
    "collapsed": true,
    "deletable": true,
    "editable": true
   },
   "outputs": [],
   "source": [
    "# create a project dataframe that contains the total number of classifications per project\n",
    "project_df = classification_df.groupby('project_id').size().to_frame('panoptes_dump_classification_count')\n",
    "# get the workflow IDs for each project and store as a list\n",
    "project_df = project_df.merge(classification_df.groupby('project_id')['workflow_id'].unique().to_frame('panoptes_dump_workflows'),left_index=True,right_index=True)\n",
    "# reset index\n",
    "project_df = project_df.reset_index()\n",
    "# create 'panoptes_dump' column\n",
    "project_df['panoptes_dump'] = 1\n",
    "# rename project_id field for merge later\n",
    "project_df = project_df.rename(columns={'project_id':'panoptes_project_id'})"
   ]
  },
  {
   "cell_type": "code",
   "execution_count": 6,
   "metadata": {
    "collapsed": false,
    "deletable": true,
    "editable": true
   },
   "outputs": [
    {
     "name": "stdout",
     "output_type": "stream",
     "text": [
      "/projects?page=2\n",
      "/projects?page=3\n",
      "/projects?page=4\n",
      "/projects?page=5\n",
      "/projects?page=6\n",
      "/projects?page=7\n",
      "/projects?page=8\n",
      "/projects?page=9\n",
      "/projects?page=10\n",
      "/projects?page=11\n",
      "/projects?page=12\n",
      "/projects?page=13\n",
      "/projects?page=14\n",
      "/projects?page=15\n",
      "/projects?page=16\n",
      "/projects?page=17\n",
      "/projects?page=18\n",
      "/projects?page=19\n",
      "/projects?page=20\n",
      "/projects?page=21\n",
      "/projects?page=22\n",
      "/projects?page=23\n",
      "/projects?page=24\n",
      "/projects?page=25\n"
     ]
    }
   ],
   "source": [
    "# set the API endpoint\n",
    "base_url = r'https://panoptes.zooniverse.org/api/projects'\n",
    "# set necessary headers for zooniverse API\n",
    "headers = {\n",
    "    'Accept':'application/vnd.api+json; version=1',\n",
    "    'Content-Type':'application/json'\n",
    "}\n",
    "params = {}\n",
    "api_result_df = pd.DataFrame()\n",
    "while True:\n",
    "    # send and recieve HTTP request to API endpoint\n",
    "    r = requests.get(base_url,\n",
    "                    params=params,\n",
    "                    headers=headers)\n",
    "    # convert the result to JSON\n",
    "    api_result = r.json()\n",
    "    # iterate through each project in a page of API results\n",
    "    for project in api_result['projects']:\n",
    "        # collect relivant fields from json\n",
    "        api_result_dict = {\n",
    "            'panoptes_project_id':project['id'],\n",
    "            'panoptes_project_name':project['display_name'],\n",
    "            'panoptes_migrated':project['migrated'],\n",
    "            'panoptes_description':project['description'],\n",
    "            'panoptes_live':project['live'],\n",
    "            'panoptes_launch_date':project['launch_date'],\n",
    "            'panoptes_completeness':project['completeness'],\n",
    "            'panoptes_api_subject_count':project['subjects_count'],\n",
    "            'panoptes_api_classificaitons_count':project['classifiers_count'],\n",
    "        }\n",
    "        # collect the workflow information if it exists\n",
    "        # this is useful for comparing dump results against API results\n",
    "        if 'workflows' in project['links']:\n",
    "            api_result_dict['panoptes_api_workflows'] = project['links']['workflows']\n",
    "        else:\n",
    "            api_result_dict['panoptes_api_workflows'] = None\n",
    "        # collect the project roles if they're listed\n",
    "        if 'project_roles' in project['links']:\n",
    "            api_result_dict['panoptes_api_roles'] = project['links']['project_roles']\n",
    "        else:\n",
    "            api_result_dict['panoptes_api_roles'] = None\n",
    "        if project['launch_approved']:\n",
    "            api_result_dict['panoptes_api_official_project'] = 1\n",
    "        else:\n",
    "            api_result_dict['panoptes_api_official_project'] = 0\n",
    "        # add the project data to the projects dataframe\n",
    "        api_result_df = api_result_df.append(pd.DataFrame([api_result_dict]))\n",
    "    \n",
    "    # if there is another page of search results, add that href to the next query\n",
    "    # else return the API result\n",
    "    if api_result['meta']['projects']['next_href']:\n",
    "        params['page'] = api_result['meta']['projects']['next_href'].split('=')[-1]\n",
    "        print(api_result['meta']['projects']['next_href'])\n",
    "    else:\n",
    "        break\n",
    "        \n",
    "# convert the project ID from a string to a numeric field\n",
    "api_result_df['panoptes_project_id'] = pd.to_numeric(api_result_df['panoptes_project_id'])\n",
    "# create a panoptes_api field\n",
    "api_result_df['panoptes_api'] = 1\n",
    "    "
   ]
  },
  {
   "cell_type": "code",
   "execution_count": 10,
   "metadata": {
    "collapsed": true,
    "deletable": true,
    "editable": true
   },
   "outputs": [],
   "source": [
    "joined_df = api_result_df.merge(project_df,on='panoptes_project_id',how='outer')"
   ]
  },
  {
   "cell_type": "code",
   "execution_count": 11,
   "metadata": {
    "collapsed": false,
    "deletable": true,
    "editable": true
   },
   "outputs": [],
   "source": [
    "ouroboros_classification_df = ouroboros_classification_df.rename(columns={'_id':'ouroboros_mongo_id',\n",
    "                                            'panoptes_id':'panoptes_project_id',\n",
    "                                            'activated_subjects_at':'ouroboros_meta_activated_subjects_at',\n",
    "                                            'classification_count':'ouroboros_meta_classification_count',\n",
    "                                            'complete_count':'ouroboros_meta_complete_count',\n",
    "                                            'created_at':'ouroboros_meta_created_at',\n",
    "                                            'display_name':'ouroboros_project_name',\n",
    "                                            'panoptes_id':'panoptes_project_id',\n",
    "                                            'user_count':'ouroboros_meta_user_count'})\n",
    "ouroboros_classification_df['ouroboros_dump'] = 1\n",
    "ouroboros_classification_df = ouroboros_classification_df[['ouroboros_mongo_id',\n",
    "                                                           'ouroboros_meta_activated_subjects_at',\n",
    "                                                           'ouroboros_meta_classification_count',\n",
    "                                                           'ouroboros_meta_complete_count',\n",
    "                                                           'ouroboros_meta_created_at',\n",
    "                                                           'ouroboros_project_name',\n",
    "                                                           'panoptes_project_id', \n",
    "                                                           'ouroboros_meta_user_count',\n",
    "                                                           'ouroboros_dump']]"
   ]
  },
  {
   "cell_type": "code",
   "execution_count": 12,
   "metadata": {
    "collapsed": false,
    "deletable": true,
    "editable": true
   },
   "outputs": [],
   "source": [
    "joined_df = joined_df.merge(ouroboros_classification_df,on='panoptes_project_id',how='outer')"
   ]
  },
  {
   "cell_type": "code",
   "execution_count": 13,
   "metadata": {
    "collapsed": false,
    "deletable": true,
    "editable": true
   },
   "outputs": [
    {
     "data": {
      "text/plain": [
       "58"
      ]
     },
     "execution_count": 13,
     "metadata": {},
     "output_type": "execute_result"
    }
   ],
   "source": [
    "len(joined_df.loc[(joined_df['panoptes_api'] == 1) & (joined_df['ouroboros_dump'] == 1)])"
   ]
  },
  {
   "cell_type": "code",
   "execution_count": 14,
   "metadata": {
    "collapsed": false,
    "deletable": true,
    "editable": true
   },
   "outputs": [],
   "source": [
    "# set NaN values to 0\n",
    "joined_df.loc[joined_df['panoptes_dump'].isnull(),'panoptes_dump'] = 0\n",
    "joined_df.loc[joined_df['panoptes_api'].isnull(),'panoptes_api'] = 0\n",
    "joined_df.loc[joined_df['ouroboros_dump'].isnull(),'ouroboros_dump'] = 0"
   ]
  },
  {
   "cell_type": "code",
   "execution_count": 15,
   "metadata": {
    "collapsed": true,
    "deletable": true,
    "editable": true
   },
   "outputs": [],
   "source": [
    "# drop non-uniques base on panoptes_project_id\n",
    "joined_df = joined_df.drop_duplicates(subset='panoptes_project_id',keep='first')"
   ]
  },
  {
   "cell_type": "code",
   "execution_count": 16,
   "metadata": {
    "collapsed": false,
    "deletable": true,
    "editable": true
   },
   "outputs": [
    {
     "name": "stdout",
     "output_type": "stream",
     "text": [
      "panoptes dump: 750\n",
      "panoptes api: 377\n",
      "ouroboros dump: 30\n",
      "\n",
      "panoptes dump + api: 236\n",
      "panoptes dump + ouroboros dump: 0\n",
      "ouroboros dump + panoptes api: 29\n",
      "\n",
      "only panoptes dump: 514\n",
      "only panoptes api: 112\n",
      "only ouroboros dump: 1\n",
      "\n"
     ]
    }
   ],
   "source": [
    "print('panoptes dump: {0}'.format(len(joined_df.loc[joined_df['panoptes_dump'] == 1])))\n",
    "print('panoptes api: {0}'.format(len(joined_df.loc[joined_df['panoptes_api'] == 1])))\n",
    "print('ouroboros dump: {0}\\n'.format(len(joined_df.loc[joined_df['ouroboros_dump'] == 1])))\n",
    "print('panoptes dump + api: {0}'.format(len(joined_df.loc[(joined_df['panoptes_dump'] == 1) & (joined_df['panoptes_api'] == 1)])))\n",
    "print('panoptes dump + ouroboros dump: {0}'.format(len(joined_df.loc[(joined_df['panoptes_dump'] == 1) & (joined_df['ouroboros_dump'] == 1)])))\n",
    "print('ouroboros dump + panoptes api: {0}\\n'.format(len(joined_df.loc[(joined_df['panoptes_api'] == 1) & (joined_df['ouroboros_dump'] == 1)])))\n",
    "print('only panoptes dump: {0}'.format(len(joined_df.loc[(joined_df['panoptes_dump'] == 1) & (joined_df['panoptes_api'] == 0) & (joined_df['ouroboros_dump'] == 0)])))\n",
    "print('only panoptes api: {0}'.format(len(joined_df.loc[(joined_df['panoptes_dump'] == 0) & (joined_df['panoptes_api'] == 1) & (joined_df['ouroboros_dump'] == 0)])))\n",
    "print('only ouroboros dump: {0}\\n'.format(len(joined_df.loc[(joined_df['panoptes_dump'] == 0) & (joined_df['panoptes_api'] == 0) & (joined_df['ouroboros_dump'] == 1)])))"
   ]
  },
  {
   "cell_type": "code",
   "execution_count": 17,
   "metadata": {
    "collapsed": false,
    "deletable": true,
    "editable": true
   },
   "outputs": [
    {
     "name": "stdout",
     "output_type": "stream",
     "text": [
      "panoptes dump: 0.8408071748878924\n",
      "panoptes api: 0.4226457399103139\n",
      "ouroboros dump: 0.033632286995515695\n",
      "\n",
      "panoptes dump + api: 0.2645739910313901\n",
      "panoptes dump + ouroboros dump: 0.0\n",
      "ouroboros dump + panoptes api: 0.032511210762331835\n",
      "\n",
      "only panoptes dump: 0.5762331838565022\n",
      "only panoptes api: 0.12556053811659193\n",
      "only ouroboros dump: 0.0011210762331838565\n",
      "\n"
     ]
    }
   ],
   "source": [
    "print('panoptes dump: {0}'.format(len(joined_df.loc[joined_df['panoptes_dump'] == 1])/len(joined_df)))\n",
    "print('panoptes api: {0}'.format(len(joined_df.loc[joined_df['panoptes_api'] == 1])/len(joined_df)))\n",
    "print('ouroboros dump: {0}\\n'.format(len(joined_df.loc[joined_df['ouroboros_dump'] == 1])/len(joined_df)))\n",
    "print('panoptes dump + api: {0}'.format(len(joined_df.loc[(joined_df['panoptes_dump'] == 1) & (joined_df['panoptes_api'] == 1)])/len(joined_df)))\n",
    "print('panoptes dump + ouroboros dump: {0}'.format(len(joined_df.loc[(joined_df['panoptes_dump'] == 1) & (joined_df['ouroboros_dump'] == 1)])/len(joined_df)))\n",
    "print('ouroboros dump + panoptes api: {0}\\n'.format(len(joined_df.loc[(joined_df['panoptes_api'] == 1) & (joined_df['ouroboros_dump'] == 1)])/len(joined_df)))\n",
    "print('only panoptes dump: {0}'.format(len(joined_df.loc[(joined_df['panoptes_dump'] == 1) & (joined_df['panoptes_api'] == 0) & (joined_df['ouroboros_dump'] == 0)])/len(joined_df)))\n",
    "print('only panoptes api: {0}'.format(len(joined_df.loc[(joined_df['panoptes_dump'] == 0) & (joined_df['panoptes_api'] == 1) & (joined_df['ouroboros_dump'] == 0)])/len(joined_df)))\n",
    "print('only ouroboros dump: {0}\\n'.format(len(joined_df.loc[(joined_df['panoptes_dump'] == 0) & (joined_df['panoptes_api'] == 0) & (joined_df['ouroboros_dump'] == 1)])/len(joined_df)))"
   ]
  },
  {
   "cell_type": "code",
   "execution_count": 30,
   "metadata": {
    "collapsed": false
   },
   "outputs": [
    {
     "name": "stdout",
     "output_type": "stream",
     "text": [
      "official_projects: 61\n",
      "non-official_projects: 316\n",
      "no result: 515\n",
      "\n",
      "PANOPTES DUMP + API\n",
      "official_projects: 38\n",
      "non-official_projects: 198\n",
      "no result: 0\n",
      "\n",
      "OUROBOROS_DUMP + API\n",
      "official_projects: 19\n",
      "non-official_projects: 10\n",
      "no result: 0\n",
      "\n"
     ]
    }
   ],
   "source": [
    "print('official_projects: {0}'.format(len(joined_df.loc[joined_df['panoptes_api_official_project'] == 1])))\n",
    "print('non-official_projects: {0}'.format(len(joined_df.loc[joined_df['panoptes_api_official_project'] == 0])))\n",
    "print('no result: {0}\\n'.format(len(joined_df.loc[joined_df['panoptes_api_official_project'].isnull()])))\n",
    "\n",
    "print('PANOPTES DUMP + API')\n",
    "print('official_projects: {0}'.format(len(joined_df.loc[(joined_df['panoptes_api_official_project'] == 1) & (joined_df['panoptes_dump'] == 1) & (joined_df['panoptes_api'] == 1)])))\n",
    "print('non-official_projects: {0}'.format(len(joined_df.loc[(joined_df['panoptes_api_official_project'] == 0) & (joined_df['panoptes_dump'] == 1) & (joined_df['panoptes_api'] == 1)])))\n",
    "print('no result: {0}\\n'.format(len(joined_df.loc[(joined_df['panoptes_api_official_project'].isnull()) & (joined_df['panoptes_dump'] == 1) & (joined_df['panoptes_api'] == 1)])))\n",
    "\n",
    "print('OUROBOROS_DUMP + API')\n",
    "print('official_projects: {0}'.format(len(joined_df.loc[(joined_df['panoptes_api_official_project'] == 1) & (joined_df['ouroboros_dump'] == 1) & (joined_df['panoptes_api'] == 1)])))\n",
    "print('non-official_projects: {0}'.format(len(joined_df.loc[(joined_df['panoptes_api_official_project'] == 0) & (joined_df['ouroboros_dump'] == 1) & (joined_df['panoptes_api'] == 1)])))\n",
    "print('no result: {0}\\n'.format(len(joined_df.loc[(joined_df['panoptes_api_official_project'].isnull()) & (joined_df['ouroboros_dump'] == 1) & (joined_df['panoptes_api'] == 1)])))"
   ]
  },
  {
   "cell_type": "code",
   "execution_count": 35,
   "metadata": {
    "collapsed": false
   },
   "outputs": [
    {
     "data": {
      "text/plain": [
       "2                                 Planet Hunters\n",
       "15                         Planet Four: Terrains\n",
       "17                         Whales as Individuals\n",
       "19                                   Old Weather\n",
       "20                              Snapshots at Sea\n",
       "22                                    Galaxy Zoo\n",
       "33                           Operation War Diary\n",
       "36                              Radio Galaxy Zoo\n",
       "38                            Snapshot Serengeti\n",
       "40                                 Bat Detective\n",
       "45                                   Planet Four\n",
       "46                                Cyclone Center\n",
       "64                                Worm Watch Lab\n",
       "66                               Plankton Portal\n",
       "71                                Galaxy Zoo: 3D\n",
       "74                                  Condor Watch\n",
       "78                                   Chimp & See\n",
       "80                              Orchid Observers\n",
       "82                                Disk Detective\n",
       "83                                Science Gossip\n",
       "87                                 Penguin Watch\n",
       "89                                 Higgs Hunters\n",
       "96                                    Sunspotter\n",
       "97                              Floating Forests\n",
       "102                               Jungle Rhythms\n",
       "104                   Serengeti Wildebeest Count\n",
       "106                 Season Spotter Image Marking\n",
       "117                     Season Spotter Questions\n",
       "119                                Fossil Finder\n",
       "125                                     AnnoTate\n",
       "                         ...                    \n",
       "155                             Arizona BatWatch\n",
       "177                            WildCam Gorongosa\n",
       "195                Western Shield — Camera Watch\n",
       "197                        Toledo Zoo Wild Shots\n",
       "199                   Computer Vision: Serengeti\n",
       "208                         Measuring the ANZACs\n",
       "217                                Comet Hunters\n",
       "220                             Camera CATalogue\n",
       "225                                  Gravity Spy\n",
       "255                            Notes from Nature\n",
       "257                                Emigrant City\n",
       "267                           Microscopy Masters\n",
       "270                               Mapping Change\n",
       "273                               Poppin' Galaxy\n",
       "282                             Astronomy Rewind\n",
       "307    Focus on Wildlife -- Cleveland Metroparks\n",
       "311                       Decoding the Civil War\n",
       "336                            Milky Way Project\n",
       "356                           Pattern Perception\n",
       "362                    Backyard Worlds: Planet 9\n",
       "364                                Steller Watch\n",
       "366                           Snapshot Wisconsin\n",
       "370                             Radio Meteor Zoo\n",
       "379                            Supernova Hunters\n",
       "400                             The Plastic Tide\n",
       "402                          Elephant Expedition\n",
       "449                                 Bash the Bug\n",
       "458                                     Planet 9\n",
       "462                     Western Montana Wildlife\n",
       "503                   Understanding Animal Faces\n",
       "Name: panoptes_project_name, dtype: object"
      ]
     },
     "execution_count": 35,
     "metadata": {},
     "output_type": "execute_result"
    }
   ],
   "source": [
    "joined_df.loc[joined_df['panoptes_api_official_project'] == 1]['panoptes_project_name']"
   ]
  },
  {
   "cell_type": "code",
   "execution_count": 163,
   "metadata": {
    "collapsed": false,
    "deletable": true,
    "editable": true
   },
   "outputs": [
    {
     "name": "stderr",
     "output_type": "stream",
     "text": [
      "/home/sjm668/dev/zooniverse/src/venv/lib/python3.5/site-packages/IPython/core/interactiveshell.py:2717: DtypeWarning: Columns (5) have mixed types. Specify dtype option on import or set low_memory=False.\n",
      "  interactivity=interactivity, compiler=compiler, result=result)\n"
     ]
    }
   ],
   "source": [
    "# specify data directory and file\n",
    "ouroboros_classification_file = '/srv/zooniverse/tables/ouroboros_classification_table_03-09-17.csv'\n",
    "# read csv file of panoptes classifications\n",
    "ouroboros_classification_df = pd.read_csv(ouroboros_classification_file)"
   ]
  }
 ],
 "metadata": {
  "kernelspec": {
   "display_name": "Python 3",
   "language": "python",
   "name": "python3"
  },
  "language_info": {
   "codemirror_mode": {
    "name": "ipython",
    "version": 3
   },
   "file_extension": ".py",
   "mimetype": "text/x-python",
   "name": "python",
   "nbconvert_exporter": "python",
   "pygments_lexer": "ipython3",
   "version": "3.5.1"
  }
 },
 "nbformat": 4,
 "nbformat_minor": 2
}
