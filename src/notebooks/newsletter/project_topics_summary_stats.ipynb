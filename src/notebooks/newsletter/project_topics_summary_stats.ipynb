{
 "cells": [
  {
   "cell_type": "code",
   "execution_count": 1,
   "metadata": {
    "collapsed": true,
    "deletable": true,
    "editable": true
   },
   "outputs": [],
   "source": [
    "%matplotlib inline\n",
    "\n",
    "import pandas as pd\n",
    "import matplotlib.pyplot as plt\n",
    "import matplotlib\n",
    "import numpy as np\n",
    "matplotlib.style.use('ggplot')\n",
    "\n",
    "import requests\n",
    "import json"
   ]
  },
  {
   "cell_type": "code",
   "execution_count": 2,
   "metadata": {
    "collapsed": false,
    "deletable": true,
    "editable": true
   },
   "outputs": [
    {
     "name": "stderr",
     "output_type": "stream",
     "text": [
      "/home/sjm668/dev/zooniverse/src/venv/lib/python3.5/site-packages/IPython/core/interactiveshell.py:2717: DtypeWarning: Columns (8) have mixed types. Specify dtype option on import or set low_memory=False.\n",
      "  interactivity=interactivity, compiler=compiler, result=result)\n"
     ]
    }
   ],
   "source": [
    "# specify data directory and file\n",
    "data_dir = '/srv/zooniverse/raw_data/panoptes/all-panoptes-classifications-2017-01-30.csv'\n",
    "# read csv file of panoptes classifications\n",
    "classification_df = pd.read_csv(data_dir)"
   ]
  },
  {
   "cell_type": "code",
   "execution_count": 8,
   "metadata": {
    "collapsed": true,
    "deletable": true,
    "editable": true
   },
   "outputs": [],
   "source": [
    "# create a project dataframe that contains the total number of classifications per project\n",
    "project_df = classification_df.groupby('project_id').size().to_frame('panoptes_dump_classification_count')\n",
    "# get the workflow IDs for each project and store as a list\n",
    "project_df = project_df.merge(classification_df.groupby('project_id')['workflow_id'].unique().to_frame('panoptes_dump_workflows'),left_index=True,right_index=True)\n",
    "# reset index\n",
    "project_df = project_df.reset_index()\n",
    "# create 'panoptes_dump' column\n",
    "project_df['panoptes_dump'] = 1\n",
    "# rename project_id field for merge later\n",
    "project_df = project_df.rename(columns={'project_id':'panoptes_project_id'})"
   ]
  },
  {
   "cell_type": "code",
   "execution_count": 9,
   "metadata": {
    "collapsed": false,
    "deletable": true,
    "editable": true
   },
   "outputs": [
    {
     "name": "stdout",
     "output_type": "stream",
     "text": [
      "/projects?page=2\n",
      "/projects?page=3\n",
      "/projects?page=4\n",
      "/projects?page=5\n",
      "/projects?page=6\n",
      "/projects?page=7\n",
      "/projects?page=8\n",
      "/projects?page=9\n",
      "/projects?page=10\n",
      "/projects?page=11\n",
      "/projects?page=12\n",
      "/projects?page=13\n",
      "/projects?page=14\n",
      "/projects?page=15\n",
      "/projects?page=16\n",
      "/projects?page=17\n",
      "/projects?page=18\n",
      "/projects?page=19\n",
      "/projects?page=20\n",
      "/projects?page=21\n",
      "/projects?page=22\n",
      "/projects?page=23\n",
      "/projects?page=24\n",
      "/projects?page=25\n",
      "/projects?page=26\n",
      "/projects?page=27\n",
      "/projects?page=28\n",
      "/projects?page=29\n",
      "/projects?page=30\n",
      "/projects?page=31\n",
      "/projects?page=32\n",
      "/projects?page=33\n",
      "/projects?page=34\n",
      "/projects?page=35\n",
      "/projects?page=36\n",
      "/projects?page=37\n",
      "/projects?page=38\n",
      "/projects?page=39\n",
      "/projects?page=40\n",
      "/projects?page=41\n",
      "/projects?page=42\n",
      "/projects?page=43\n",
      "/projects?page=44\n",
      "/projects?page=45\n",
      "/projects?page=46\n",
      "/projects?page=47\n",
      "/projects?page=48\n",
      "/projects?page=49\n",
      "/projects?page=50\n"
     ]
    }
   ],
   "source": [
    "# set the API endpoint\n",
    "base_url = r'https://panoptes.zooniverse.org/api/projects'\n",
    "# set necessary headers for zooniverse API\n",
    "headers = {\n",
    "    'Accept':'application/vnd.api+json; version=1',\n",
    "    'Content-Type':'application/json'\n",
    "}\n",
    "params = {}\n",
    "api_result_df = pd.DataFrame()\n",
    "while True:\n",
    "    # send and recieve HTTP request to API endpoint\n",
    "    r = requests.get(base_url,\n",
    "                    params=params,\n",
    "                    headers=headers)\n",
    "    # convert the result to JSON\n",
    "    api_result = r.json()\n",
    "    # iterate through each project in a page of API results\n",
    "    for project in api_result['projects']:\n",
    "        # collect relivant fields from json\n",
    "        api_result_dict = {\n",
    "            'panoptes_project_id':project['id'],\n",
    "            'panoptes_project_name':project['display_name'],\n",
    "            'panoptes_migrated':project['migrated'],\n",
    "            'panoptes_description':project['description'],\n",
    "            'panoptes_live':project['live'],\n",
    "            'panoptes_launch_date':project['launch_date'],\n",
    "            'panoptes_completeness':project['completeness'],\n",
    "            'panoptes_api_subject_count':project['subjects_count'],\n",
    "            'panoptes_api_classificaitons_count':project['classifiers_count'],\n",
    "            'panoptes_api_topics':project['tags']\n",
    "        }\n",
    "        # collect the workflow information if it exists\n",
    "        # this is useful for comparing dump results against API results\n",
    "        if 'workflows' in project['links']:\n",
    "            api_result_dict['panoptes_api_workflows'] = project['links']['workflows']\n",
    "        else:\n",
    "            api_result_dict['panoptes_api_workflows'] = None\n",
    "        # collect the project roles if they're listed\n",
    "        if 'project_roles' in project['links']:\n",
    "            api_result_dict['panoptes_api_roles'] = project['links']['project_roles']\n",
    "        else:\n",
    "            api_result_dict['panoptes_api_roles'] = None\n",
    "        if project['launch_approved']:\n",
    "            api_result_dict['panoptes_api_official_project'] = 1\n",
    "        else:\n",
    "            api_result_dict['panoptes_api_official_project'] = 0\n",
    "        # add the project data to the projects dataframe\n",
    "        api_result_df = api_result_df.append(pd.DataFrame([api_result_dict]))\n",
    "    \n",
    "    # if there is another page of search results, add that href to the next query\n",
    "    # else return the API result\n",
    "    if api_result['meta']['projects']['next_href']:\n",
    "        params['page'] = api_result['meta']['projects']['next_href'].split('=')[-1]\n",
    "        print(api_result['meta']['projects']['next_href'])\n",
    "    else:\n",
    "        break\n",
    "        \n",
    "# convert the project ID from a string to a numeric field\n",
    "api_result_df['panoptes_project_id'] = pd.to_numeric(api_result_df['panoptes_project_id'])\n",
    "# create a panoptes_api field\n",
    "api_result_df['panoptes_api'] = 1\n",
    "    "
   ]
  },
  {
   "cell_type": "code",
   "execution_count": 10,
   "metadata": {
    "collapsed": true,
    "deletable": true,
    "editable": true
   },
   "outputs": [],
   "source": [
    "joined_df = api_result_df.merge(project_df,on='panoptes_project_id',how='outer')"
   ]
  },
  {
   "cell_type": "code",
   "execution_count": 11,
   "metadata": {
    "collapsed": false,
    "deletable": true,
    "editable": true
   },
   "outputs": [],
   "source": [
    "# set NaN values to 0\n",
    "joined_df.loc[joined_df['panoptes_dump'].isnull(),'panoptes_dump'] = 0\n",
    "joined_df.loc[joined_df['panoptes_api'].isnull(),'panoptes_api'] = 0"
   ]
  },
  {
   "cell_type": "code",
   "execution_count": 12,
   "metadata": {
    "collapsed": true,
    "deletable": true,
    "editable": true
   },
   "outputs": [],
   "source": [
    "# drop non-uniques base on panoptes_project_id\n",
    "joined_df = joined_df.drop_duplicates(subset='panoptes_project_id',keep='first')"
   ]
  },
  {
   "cell_type": "markdown",
   "metadata": {
    "deletable": true,
    "editable": true
   },
   "source": [
    "# Project Overlap Stats"
   ]
  },
  {
   "cell_type": "code",
   "execution_count": 14,
   "metadata": {
    "collapsed": false,
    "deletable": true,
    "editable": true
   },
   "outputs": [
    {
     "name": "stdout",
     "output_type": "stream",
     "text": [
      "panoptes dump: 750\n",
      "panoptes api: 987\n",
      "panoptes dump + api: 299\n"
     ]
    }
   ],
   "source": [
    "print('panoptes dump: {0}'.format(len(joined_df.loc[joined_df['panoptes_dump'] == 1])))\n",
    "print('panoptes api: {0}'.format(len(joined_df.loc[joined_df['panoptes_api'] == 1])))\n",
    "print('overlap between panoptes dump + api: {0}'.format(len(joined_df.loc[(joined_df['panoptes_dump'] == 1) & (joined_df['panoptes_api'] == 1)])))"
   ]
  },
  {
   "cell_type": "markdown",
   "metadata": {
    "deletable": true,
    "editable": true
   },
   "source": [
    "# Official Project Overlap Stats"
   ]
  },
  {
   "cell_type": "code",
   "execution_count": 15,
   "metadata": {
    "collapsed": false,
    "deletable": true,
    "editable": true
   },
   "outputs": [
    {
     "name": "stdout",
     "output_type": "stream",
     "text": [
      "official_projects: 162\n",
      "non-official_projects: 825\n",
      "project IDs in dump without API result: 451\n",
      "\n",
      "PANOPTES DUMP + API\n",
      "official_projects: 65\n",
      "non-official_projects: 234\n"
     ]
    }
   ],
   "source": [
    "print('official_projects: {0}'.format(len(joined_df.loc[joined_df['panoptes_api_official_project'] == 1])))\n",
    "print('non-official_projects: {0}'.format(len(joined_df.loc[joined_df['panoptes_api_official_project'] == 0])))\n",
    "print('project IDs in dump without API result: {0}\\n'.format(len(joined_df.loc[joined_df['panoptes_api_official_project'].isnull()])))\n",
    "\n",
    "print('PANOPTES DUMP + API')\n",
    "print('official_projects: {0}'.format(len(joined_df.loc[(joined_df['panoptes_api_official_project'] == 1) & (joined_df['panoptes_dump'] == 1) & (joined_df['panoptes_api'] == 1)])))\n",
    "print('non-official_projects: {0}'.format(len(joined_df.loc[(joined_df['panoptes_api_official_project'] == 0) & (joined_df['panoptes_dump'] == 1) & (joined_df['panoptes_api'] == 1)])))\n",
    "#print('no result: {0}\\n'.format(len(joined_df.loc[(joined_df['panoptes_api_official_project'].isnull()) & (joined_df['panoptes_dump'] == 1) & (joined_df['panoptes_api'] == 1)])))"
   ]
  },
  {
   "cell_type": "code",
   "execution_count": 16,
   "metadata": {
    "collapsed": false,
    "deletable": true,
    "editable": true
   },
   "outputs": [],
   "source": [
    "# make a df of only official panoptes projects\n",
    "official_projects_df = joined_df.loc[joined_df['panoptes_api_official_project'] == 1]\n",
    "official_projects_df = official_projects_df.loc[official_projects_df['panoptes_dump_classification_count'].notnull()]"
   ]
  },
  {
   "cell_type": "markdown",
   "metadata": {
    "deletable": true,
    "editable": true
   },
   "source": [
    "# Official Project Names"
   ]
  },
  {
   "cell_type": "code",
   "execution_count": 17,
   "metadata": {
    "collapsed": false,
    "deletable": true,
    "editable": true
   },
   "outputs": [
    {
     "data": {
      "text/plain": [
       "array(['Steller Watch', 'Backyard Worlds: Planet 9', 'Camera CATalogue',\n",
       "       'Comet Hunters', 'Western Montana Wildlife', 'Bash the Bug',\n",
       "       'Wildwatch Kenya',\n",
       "       'The Community Seagrass Initiative - Seagrass Explorer',\n",
       "       'Season Spotter Image Marking', 'WildCam Gorongosa',\n",
       "       'Galaxy Nurseries', 'Season Spotter Questions',\n",
       "       'Steelpan Vibrations', 'Serengeti Wildebeest Count', 'Seabirdwatch',\n",
       "       'Fossil Atmospheres', 'AmazonCam Tambopata', 'Notes from Nature',\n",
       "       'Exoplanet Explorers', 'Western Shield — Camera Watch',\n",
       "       'Colorado Corridors Project', 'Radio Meteor Zoo',\n",
       "       'African American Civil War Soldiers', 'Milky Way Project',\n",
       "       \"Shakespeare's World\", 'Gravity Spy',\n",
       "       'SCOTUS Notes: Behind the Scenes at Supreme Court Conference',\n",
       "       'Canid Camera', 'Focus on Wildlife -- Cleveland Metroparks',\n",
       "       \"Poppin' Galaxy\", 'Snow Spotter', 'Etch a Cell',\n",
       "       'Planet Four: Ridges', 'Decoding the Civil War', 'Brain Match',\n",
       "       'Planet Four: Terrains', 'Muon Hunter', 'Chicago Wildlife Watch',\n",
       "       'Count flowers for bees', \"Hubble's Hot Stars\", 'Floating Forests',\n",
       "       'Michigan ZoomIN', \"Reading Nature's Library\",\n",
       "       'Understanding Animal Faces', 'Zen of Dragons', 'Supernova Hunters',\n",
       "       'Snapshot Wisconsin', \"Amazo'N'Oil\", 'Pattern Perception',\n",
       "       'Astronomy Rewind', 'TreeVersity', 'Mapping Change',\n",
       "       'Microscopy Masters', 'Arizona BatWatch', 'Fossil Finder',\n",
       "       'AnnoTate', 'Jungle Rhythms', 'Galaxy Zoo: 3D', 'Snapshots at Sea',\n",
       "       'Whales as Individuals', 'Elephant Expedition', 'Mutual Muses',\n",
       "       'The Plastic Tide', 'Computer Vision: Serengeti',\n",
       "       'Toledo Zoo Wild Shots'], dtype=object)"
      ]
     },
     "execution_count": 17,
     "metadata": {},
     "output_type": "execute_result"
    }
   ],
   "source": [
    "official_projects_df['panoptes_project_name'].values"
   ]
  },
  {
   "cell_type": "code",
   "execution_count": 29,
   "metadata": {
    "collapsed": false,
    "deletable": true,
    "editable": true
   },
   "outputs": [],
   "source": [
    "# unpack lists of workflows where each workflow is a row\n",
    "workflows = official_projects_df.apply(lambda x: pd.Series(x['panoptes_api_workflows']),axis=1).stack().reset_index(level=1, drop=True).to_frame('workflows')\n",
    "# count the number of each workflow\n",
    "workflows = workflows.groupby('workflows').size().to_frame('count')"
   ]
  },
  {
   "cell_type": "markdown",
   "metadata": {
    "deletable": true,
    "editable": true
   },
   "source": [
    "# All workflows are unique to each project"
   ]
  },
  {
   "cell_type": "code",
   "execution_count": 28,
   "metadata": {
    "collapsed": false,
    "deletable": true,
    "editable": true
   },
   "outputs": [
    {
     "data": {
      "text/html": [
       "<div>\n",
       "<table border=\"1\" class=\"dataframe\">\n",
       "  <thead>\n",
       "    <tr style=\"text-align: right;\">\n",
       "      <th></th>\n",
       "      <th>count</th>\n",
       "    </tr>\n",
       "  </thead>\n",
       "  <tbody>\n",
       "    <tr>\n",
       "      <th>count</th>\n",
       "      <td>1552.0</td>\n",
       "    </tr>\n",
       "    <tr>\n",
       "      <th>mean</th>\n",
       "      <td>1.0</td>\n",
       "    </tr>\n",
       "    <tr>\n",
       "      <th>std</th>\n",
       "      <td>0.0</td>\n",
       "    </tr>\n",
       "    <tr>\n",
       "      <th>min</th>\n",
       "      <td>1.0</td>\n",
       "    </tr>\n",
       "    <tr>\n",
       "      <th>25%</th>\n",
       "      <td>1.0</td>\n",
       "    </tr>\n",
       "    <tr>\n",
       "      <th>50%</th>\n",
       "      <td>1.0</td>\n",
       "    </tr>\n",
       "    <tr>\n",
       "      <th>75%</th>\n",
       "      <td>1.0</td>\n",
       "    </tr>\n",
       "    <tr>\n",
       "      <th>max</th>\n",
       "      <td>1.0</td>\n",
       "    </tr>\n",
       "  </tbody>\n",
       "</table>\n",
       "</div>"
      ],
      "text/plain": [
       "        count\n",
       "count  1552.0\n",
       "mean      1.0\n",
       "std       0.0\n",
       "min       1.0\n",
       "25%       1.0\n",
       "50%       1.0\n",
       "75%       1.0\n",
       "max       1.0"
      ]
     },
     "execution_count": 28,
     "metadata": {},
     "output_type": "execute_result"
    }
   ],
   "source": [
    "workflows.describe()"
   ]
  },
  {
   "cell_type": "code",
   "execution_count": 11,
   "metadata": {
    "collapsed": false,
    "deletable": true,
    "editable": true
   },
   "outputs": [],
   "source": [
    "# unpack lists of topics where each topic is a row\n",
    "topics = official_projects_df.apply(lambda x: pd.Series(x['panoptes_api_topics']),axis=1).stack().reset_index(level=1, drop=True).to_frame('topics')\n",
    "# count the number of each topic\n",
    "topics = topics.groupby('topics').size().to_frame('count')"
   ]
  },
  {
   "cell_type": "markdown",
   "metadata": {
    "deletable": true,
    "editable": true
   },
   "source": [
    "# Summary Stats for Topic Overlap Between Projects"
   ]
  },
  {
   "cell_type": "code",
   "execution_count": 12,
   "metadata": {
    "collapsed": false,
    "deletable": true,
    "editable": true
   },
   "outputs": [
    {
     "data": {
      "text/html": [
       "<div>\n",
       "<table border=\"1\" class=\"dataframe\">\n",
       "  <thead>\n",
       "    <tr style=\"text-align: right;\">\n",
       "      <th></th>\n",
       "      <th>count</th>\n",
       "    </tr>\n",
       "  </thead>\n",
       "  <tbody>\n",
       "    <tr>\n",
       "      <th>count</th>\n",
       "      <td>212.000000</td>\n",
       "    </tr>\n",
       "    <tr>\n",
       "      <th>mean</th>\n",
       "      <td>2.169811</td>\n",
       "    </tr>\n",
       "    <tr>\n",
       "      <th>std</th>\n",
       "      <td>4.035322</td>\n",
       "    </tr>\n",
       "    <tr>\n",
       "      <th>min</th>\n",
       "      <td>1.000000</td>\n",
       "    </tr>\n",
       "    <tr>\n",
       "      <th>25%</th>\n",
       "      <td>1.000000</td>\n",
       "    </tr>\n",
       "    <tr>\n",
       "      <th>50%</th>\n",
       "      <td>1.000000</td>\n",
       "    </tr>\n",
       "    <tr>\n",
       "      <th>75%</th>\n",
       "      <td>2.000000</td>\n",
       "    </tr>\n",
       "    <tr>\n",
       "      <th>max</th>\n",
       "      <td>36.000000</td>\n",
       "    </tr>\n",
       "  </tbody>\n",
       "</table>\n",
       "</div>"
      ],
      "text/plain": [
       "            count\n",
       "count  212.000000\n",
       "mean     2.169811\n",
       "std      4.035322\n",
       "min      1.000000\n",
       "25%      1.000000\n",
       "50%      1.000000\n",
       "75%      2.000000\n",
       "max     36.000000"
      ]
     },
     "execution_count": 12,
     "metadata": {},
     "output_type": "execute_result"
    }
   ],
   "source": [
    "topics.describe()"
   ]
  },
  {
   "cell_type": "markdown",
   "metadata": {
    "deletable": true,
    "editable": true
   },
   "source": [
    "# Histogram Illustrating the Distribution of Projects Topics"
   ]
  },
  {
   "cell_type": "code",
   "execution_count": 13,
   "metadata": {
    "collapsed": false,
    "deletable": true,
    "editable": true
   },
   "outputs": [
    {
     "data": {
      "text/plain": [
       "<matplotlib.text.Text at 0x7f3033dd7278>"
      ]
     },
     "execution_count": 13,
     "metadata": {},
     "output_type": "execute_result"
    },
    {
     "data": {
      "image/png": "[encoded data removed]",
      "text/plain": [
       "<matplotlib.figure.Figure at 0x7f3033b43470>"
      ]
     },
     "metadata": {
      "needs_background": "light"
     },
     "output_type": "display_data"
    }
   ],
   "source": [
    "plt.figure(figsize=(12,6))\n",
    "plt.hist(topics['count'],bins=30)\n",
    "plt.title('Distribution of Project Tags')\n",
    "plt.xlabel('Number of Projects with Tag')\n",
    "plt.ylabel('Number of Tags')"
   ]
  },
  {
   "cell_type": "markdown",
   "metadata": {
    "deletable": true,
    "editable": true
   },
   "source": [
    "# List of topics that occur more than once"
   ]
  },
  {
   "cell_type": "code",
   "execution_count": 14,
   "metadata": {
    "collapsed": false,
    "deletable": true,
    "editable": true
   },
   "outputs": [
    {
     "data": {
      "text/html": [
       "<div>\n",
       "<table border=\"1\" class=\"dataframe\">\n",
       "  <thead>\n",
       "    <tr style=\"text-align: right;\">\n",
       "      <th></th>\n",
       "      <th>count</th>\n",
       "    </tr>\n",
       "    <tr>\n",
       "      <th>topics</th>\n",
       "      <th></th>\n",
       "    </tr>\n",
       "  </thead>\n",
       "  <tbody>\n",
       "    <tr>\n",
       "      <th>biology</th>\n",
       "      <td>4</td>\n",
       "    </tr>\n",
       "    <tr>\n",
       "      <th>climate change</th>\n",
       "      <td>2</td>\n",
       "    </tr>\n",
       "    <tr>\n",
       "      <th>conservation</th>\n",
       "      <td>2</td>\n",
       "    </tr>\n",
       "    <tr>\n",
       "      <th>history</th>\n",
       "      <td>2</td>\n",
       "    </tr>\n",
       "    <tr>\n",
       "      <th>a</th>\n",
       "      <td>28</td>\n",
       "    </tr>\n",
       "    <tr>\n",
       "      <th>africa</th>\n",
       "      <td>4</td>\n",
       "    </tr>\n",
       "    <tr>\n",
       "      <th>amazon</th>\n",
       "      <td>2</td>\n",
       "    </tr>\n",
       "    <tr>\n",
       "      <th>animals</th>\n",
       "      <td>5</td>\n",
       "    </tr>\n",
       "    <tr>\n",
       "      <th>arts</th>\n",
       "      <td>4</td>\n",
       "    </tr>\n",
       "    <tr>\n",
       "      <th>astronomy</th>\n",
       "      <td>14</td>\n",
       "    </tr>\n",
       "    <tr>\n",
       "      <th>b</th>\n",
       "      <td>2</td>\n",
       "    </tr>\n",
       "    <tr>\n",
       "      <th>biodiversity</th>\n",
       "      <td>2</td>\n",
       "    </tr>\n",
       "    <tr>\n",
       "      <th>biology</th>\n",
       "      <td>32</td>\n",
       "    </tr>\n",
       "    <tr>\n",
       "      <th>buffalo</th>\n",
       "      <td>2</td>\n",
       "    </tr>\n",
       "    <tr>\n",
       "      <th>c</th>\n",
       "      <td>5</td>\n",
       "    </tr>\n",
       "    <tr>\n",
       "      <th>camera</th>\n",
       "      <td>3</td>\n",
       "    </tr>\n",
       "    <tr>\n",
       "      <th>camera-trap</th>\n",
       "      <td>4</td>\n",
       "    </tr>\n",
       "    <tr>\n",
       "      <th>cameratrap</th>\n",
       "      <td>4</td>\n",
       "    </tr>\n",
       "    <tr>\n",
       "      <th>climate</th>\n",
       "      <td>8</td>\n",
       "    </tr>\n",
       "    <tr>\n",
       "      <th>computer vision</th>\n",
       "      <td>2</td>\n",
       "    </tr>\n",
       "    <tr>\n",
       "      <th>d</th>\n",
       "      <td>4</td>\n",
       "    </tr>\n",
       "    <tr>\n",
       "      <th>e</th>\n",
       "      <td>4</td>\n",
       "    </tr>\n",
       "    <tr>\n",
       "      <th>ecology</th>\n",
       "      <td>6</td>\n",
       "    </tr>\n",
       "    <tr>\n",
       "      <th>elephants</th>\n",
       "      <td>3</td>\n",
       "    </tr>\n",
       "    <tr>\n",
       "      <th>f</th>\n",
       "      <td>3</td>\n",
       "    </tr>\n",
       "    <tr>\n",
       "      <th>fall</th>\n",
       "      <td>2</td>\n",
       "    </tr>\n",
       "    <tr>\n",
       "      <th>giraffes</th>\n",
       "      <td>3</td>\n",
       "    </tr>\n",
       "    <tr>\n",
       "      <th>grass</th>\n",
       "      <td>2</td>\n",
       "    </tr>\n",
       "    <tr>\n",
       "      <th>h</th>\n",
       "      <td>3</td>\n",
       "    </tr>\n",
       "    <tr>\n",
       "      <th>history</th>\n",
       "      <td>8</td>\n",
       "    </tr>\n",
       "    <tr>\n",
       "      <th>...</th>\n",
       "      <td>...</td>\n",
       "    </tr>\n",
       "    <tr>\n",
       "      <th>l</th>\n",
       "      <td>6</td>\n",
       "    </tr>\n",
       "    <tr>\n",
       "      <th>language</th>\n",
       "      <td>2</td>\n",
       "    </tr>\n",
       "    <tr>\n",
       "      <th>leaves</th>\n",
       "      <td>2</td>\n",
       "    </tr>\n",
       "    <tr>\n",
       "      <th>m</th>\n",
       "      <td>2</td>\n",
       "    </tr>\n",
       "    <tr>\n",
       "      <th>maps</th>\n",
       "      <td>2</td>\n",
       "    </tr>\n",
       "    <tr>\n",
       "      <th>mars</th>\n",
       "      <td>2</td>\n",
       "    </tr>\n",
       "    <tr>\n",
       "      <th>medicine</th>\n",
       "      <td>3</td>\n",
       "    </tr>\n",
       "    <tr>\n",
       "      <th>n</th>\n",
       "      <td>2</td>\n",
       "    </tr>\n",
       "    <tr>\n",
       "      <th>nature</th>\n",
       "      <td>36</td>\n",
       "    </tr>\n",
       "    <tr>\n",
       "      <th>o</th>\n",
       "      <td>7</td>\n",
       "    </tr>\n",
       "    <tr>\n",
       "      <th>phenology</th>\n",
       "      <td>3</td>\n",
       "    </tr>\n",
       "    <tr>\n",
       "      <th>photography</th>\n",
       "      <td>2</td>\n",
       "    </tr>\n",
       "    <tr>\n",
       "      <th>physics</th>\n",
       "      <td>7</td>\n",
       "    </tr>\n",
       "    <tr>\n",
       "      <th>planetary science</th>\n",
       "      <td>3</td>\n",
       "    </tr>\n",
       "    <tr>\n",
       "      <th>plants</th>\n",
       "      <td>5</td>\n",
       "    </tr>\n",
       "    <tr>\n",
       "      <th>r</th>\n",
       "      <td>4</td>\n",
       "    </tr>\n",
       "    <tr>\n",
       "      <th>rainforest</th>\n",
       "      <td>2</td>\n",
       "    </tr>\n",
       "    <tr>\n",
       "      <th>s</th>\n",
       "      <td>4</td>\n",
       "    </tr>\n",
       "    <tr>\n",
       "      <th>seasons</th>\n",
       "      <td>2</td>\n",
       "    </tr>\n",
       "    <tr>\n",
       "      <th>social science</th>\n",
       "      <td>4</td>\n",
       "    </tr>\n",
       "    <tr>\n",
       "      <th>space</th>\n",
       "      <td>2</td>\n",
       "    </tr>\n",
       "    <tr>\n",
       "      <th>summer</th>\n",
       "      <td>2</td>\n",
       "    </tr>\n",
       "    <tr>\n",
       "      <th>transcription</th>\n",
       "      <td>2</td>\n",
       "    </tr>\n",
       "    <tr>\n",
       "      <th>trees</th>\n",
       "      <td>2</td>\n",
       "    </tr>\n",
       "    <tr>\n",
       "      <th>u</th>\n",
       "      <td>3</td>\n",
       "    </tr>\n",
       "    <tr>\n",
       "      <th>w</th>\n",
       "      <td>2</td>\n",
       "    </tr>\n",
       "    <tr>\n",
       "      <th>wild animals</th>\n",
       "      <td>2</td>\n",
       "    </tr>\n",
       "    <tr>\n",
       "      <th>wildlife</th>\n",
       "      <td>6</td>\n",
       "    </tr>\n",
       "    <tr>\n",
       "      <th>wildlife biology</th>\n",
       "      <td>2</td>\n",
       "    </tr>\n",
       "    <tr>\n",
       "      <th>winter</th>\n",
       "      <td>2</td>\n",
       "    </tr>\n",
       "  </tbody>\n",
       "</table>\n",
       "<p>61 rows × 1 columns</p>\n",
       "</div>"
      ],
      "text/plain": [
       "                   count\n",
       "topics                  \n",
       " biology               4\n",
       " climate change        2\n",
       " conservation          2\n",
       " history               2\n",
       "a                     28\n",
       "africa                 4\n",
       "amazon                 2\n",
       "animals                5\n",
       "arts                   4\n",
       "astronomy             14\n",
       "b                      2\n",
       "biodiversity           2\n",
       "biology               32\n",
       "buffalo                2\n",
       "c                      5\n",
       "camera                 3\n",
       "camera-trap            4\n",
       "cameratrap             4\n",
       "climate                8\n",
       "computer vision        2\n",
       "d                      4\n",
       "e                      4\n",
       "ecology                6\n",
       "elephants              3\n",
       "f                      3\n",
       "fall                   2\n",
       "giraffes               3\n",
       "grass                  2\n",
       "h                      3\n",
       "history                8\n",
       "...                  ...\n",
       "l                      6\n",
       "language               2\n",
       "leaves                 2\n",
       "m                      2\n",
       "maps                   2\n",
       "mars                   2\n",
       "medicine               3\n",
       "n                      2\n",
       "nature                36\n",
       "o                      7\n",
       "phenology              3\n",
       "photography            2\n",
       "physics                7\n",
       "planetary science      3\n",
       "plants                 5\n",
       "r                      4\n",
       "rainforest             2\n",
       "s                      4\n",
       "seasons                2\n",
       "social science         4\n",
       "space                  2\n",
       "summer                 2\n",
       "transcription          2\n",
       "trees                  2\n",
       "u                      3\n",
       "w                      2\n",
       "wild animals           2\n",
       "wildlife               6\n",
       "wildlife biology       2\n",
       "winter                 2\n",
       "\n",
       "[61 rows x 1 columns]"
      ]
     },
     "execution_count": 14,
     "metadata": {},
     "output_type": "execute_result"
    }
   ],
   "source": [
    "topics.loc[topics['count'] > 1]"
   ]
  },
  {
   "cell_type": "code",
   "execution_count": null,
   "metadata": {
    "collapsed": true,
    "deletable": true,
    "editable": true
   },
   "outputs": [],
   "source": []
  }
 ],
 "metadata": {
  "kernelspec": {
   "display_name": "Python 3",
   "language": "python",
   "name": "python3"
  },
  "language_info": {
   "codemirror_mode": {
    "name": "ipython",
    "version": 3
   },
   "file_extension": ".py",
   "mimetype": "text/x-python",
   "name": "python",
   "nbconvert_exporter": "python",
   "pygments_lexer": "ipython3",
   "version": "3.5.1"
  }
 },
 "nbformat": 4,
 "nbformat_minor": 2
}
