{
 "cells": [
  {
   "cell_type": "code",
   "execution_count": 1,
   "metadata": {
    "collapsed": true
   },
   "outputs": [],
   "source": [
    "import mailbox\n",
    "from datetime import datetime\n",
    "from datetime import timedelta\n",
    "import re\n",
    "\n",
    "import pandas as pd\n",
    "import matplotlib.pyplot as plt\n",
    "import matplotlib\n",
    "import numpy as np\n",
    "matplotlib.style.use('ggplot')"
   ]
  },
  {
   "cell_type": "code",
   "execution_count": 2,
   "metadata": {
    "collapsed": true
   },
   "outputs": [],
   "source": [
    "# compiled regex for getting date sent from email dump\n",
    "match = re.compile('Date: .*')\n",
    "\n",
    "# extract the initial send date from the message body\n",
    "def parse_date(message):\n",
    "    date_string = re.findall(match, message)[0].split(', ',1)[1]\n",
    "    date_time = datetime.strptime(date_string,'%b %d, %Y at %I:%M %p')\n",
    "    return date_time\n",
    "\n",
    "# create a new column of timedeltas between rows\n",
    "def create_timedelta(df):\n",
    "    df = df.sort_values('date')\n",
    "    df['timedelta'] = df['date'].subtract(df['date'].shift(1))\n",
    "    return df[1:-1]\n",
    "\n",
    "def create_email_df(mbox_path):\n",
    "    # load emails from file\n",
    "    mbox = mailbox.mbox(mbox_path)\n",
    "    \n",
    "    # iterate through email dump and extract all send dates\n",
    "    date_list = []\n",
    "\n",
    "    for m in mbox:\n",
    "        body = m.get_payload(0).as_string()\n",
    "        date = parse_date(body)\n",
    "        date_list.append(date)\n",
    "        \n",
    "    # create a dataframe with timedeltas\n",
    "    df = pd.DataFrame({'date':date_list})\n",
    "    df = create_timedelta(df)\n",
    "\n",
    "    return df"
   ]
  },
  {
   "cell_type": "code",
   "execution_count": 3,
   "metadata": {
    "collapsed": false
   },
   "outputs": [
    {
     "name": "stderr",
     "output_type": "stream",
     "text": [
      "/home/sjm668/dev/zooniverse/src/venv/lib/python3.5/site-packages/IPython/core/interactiveshell.py:2717: DtypeWarning: Columns (0,7,8) have mixed types. Specify dtype option on import or set low_memory=False.\n",
      "  interactivity=interactivity, compiler=compiler, result=result)\n"
     ]
    }
   ],
   "source": [
    "# load all data\n",
    "email_df = create_email_df('/srv/zooniverse/raw_data/emails/zooniverse.mbox')\n",
    "classification_df = pd.read_csv('/srv/zooniverse/tables/all_classifications_table_02-18-19.csv')\n",
    "project_df = pd.read_csv('/srv/zooniverse/tables/all_projects_table_02-18-19.csv')"
   ]
  },
  {
   "cell_type": "code",
   "execution_count": 4,
   "metadata": {
    "collapsed": true
   },
   "outputs": [],
   "source": [
    "# only use \"official\" projects and classifications\n",
    "classification_df = classification_df.loc[classification_df['panoptes_api_official_project'] == 1]\n",
    "project_df = project_df.loc[(project_df['panoptes_api_official_project'] == 1)]\n",
    "\n",
    "# only include projects that also have classification data\n",
    "project_df = project_df.loc[((project_df['panoptes_api'] == 1) & (project_df['ouroboros_dump'] == 1)) | (project_df['panoptes_dump'] == 1) & (project_df['panoptes_api'] == 1)]\n",
    "\n",
    "# convert classification timestamp to datetime\n",
    "classification_df['created_at'] = pd.to_datetime(classification_df['created_at'])"
   ]
  },
  {
   "cell_type": "code",
   "execution_count": 6,
   "metadata": {
    "collapsed": false
   },
   "outputs": [],
   "source": [
    "# add iso_week column\n",
    "def get_weeks(x):\n",
    "    return x.isocalendar()[0]*52+x.isocalendar()[1]\n",
    "\n",
    "classification_df['iso_week'] = classification_df['created_at'].apply(get_weeks)"
   ]
  },
  {
   "cell_type": "code",
   "execution_count": 8,
   "metadata": {
    "collapsed": true
   },
   "outputs": [],
   "source": [
    "# remove all ouroboros classifications\n",
    "classification_df = classification_df.loc[classification_df['panoptes_dump'] == 1]"
   ]
  },
  {
   "cell_type": "code",
   "execution_count": 28,
   "metadata": {
    "collapsed": false
   },
   "outputs": [],
   "source": [
    "def classifications_by_week_hist(classification_df,bin_size=1000):\n",
    "    classifications_by_week = classification_df.groupby(['panoptes_project_id','iso_week'])['iso_week'].size().to_frame('classifications')\n",
    "    classifications_by_week.hist(figsize=(12,12),bins=np.arange(0,classifications_by_week['classifications'].max(),bin_size))\n",
    "    plt.xlabel('Number of Classifications')\n",
    "    plt.ylabel('Number of Project-Weeks with X Classifications')\n",
    "    plt.tight_layout()\n",
    "    plt.title('Distribution of Classifications per Project-Week.  Bin size = {0}'.format(bin_size))\n",
    "    "
   ]
  },
  {
   "cell_type": "markdown",
   "metadata": {},
   "source": [
    "# Distribution of Classifications per Project-Week.  Bin size = 1000"
   ]
  },
  {
   "cell_type": "code",
   "execution_count": 29,
   "metadata": {
    "collapsed": false
   },
   "outputs": [
    {
     "data": {
      "image/png": "[encoded data removed]",
      "text/plain": [
       "<matplotlib.figure.Figure at 0x7f3c0f652d30>"
      ]
     },
     "metadata": {
      "needs_background": "light"
     },
     "output_type": "display_data"
    }
   ],
   "source": [
    "classifications_by_week_hist(classification_df=classification_df)"
   ]
  },
  {
   "cell_type": "markdown",
   "metadata": {},
   "source": [
    "# Unregistered Account Summary Stats"
   ]
  },
  {
   "cell_type": "code",
   "execution_count": 33,
   "metadata": {
    "collapsed": false
   },
   "outputs": [
    {
     "name": "stdout",
     "output_type": "stream",
     "text": [
      "Number of Unregistered Classifications: 3694903\n",
      "Percentage of Unregistered Classifications: 0.19547713809724596\n"
     ]
    }
   ],
   "source": [
    "print('Number of Unregistered Classifications: {0}'.format(len(classification_df.loc[classification_df['user_id'].isnull()])))\n",
    "print('Percentage of Unregistered Classifications: {0}'.format((len(classification_df.loc[classification_df['user_id'].isnull()]))/len(classification_df)))"
   ]
  },
  {
   "cell_type": "markdown",
   "metadata": {},
   "source": [
    "# Summary and Distribution of Classifications per Volunteer-Project-Week"
   ]
  },
  {
   "cell_type": "code",
   "execution_count": 50,
   "metadata": {
    "collapsed": false
   },
   "outputs": [
    {
     "name": "stdout",
     "output_type": "stream",
     "text": [
      "Distribution of Classifications per Volunteer-Project-Week\n",
      "\n",
      "count    212092.000000\n",
      "mean         71.700333\n",
      "std         272.182123\n",
      "min           1.000000\n",
      "25%           4.000000\n",
      "50%          14.000000\n",
      "75%          46.000000\n",
      "max       20932.000000\n",
      "dtype: float64\n"
     ]
    }
   ],
   "source": [
    "print('Distribution of Classifications per Volunteer-Project-Week\\n')\n",
    "print(classification_df.loc[classification_df['user_id'].notnull()].groupby(['user_id','panoptes_project_id','iso_week'])['iso_week'].size().describe())"
   ]
  },
  {
   "cell_type": "code",
   "execution_count": 40,
   "metadata": {
    "collapsed": true
   },
   "outputs": [],
   "source": [
    "def classifications_by_volunteer_by_week_hist(classification_df,bin_size=10):\n",
    "    classifications_by_week = classification_df.groupby(['panoptes_project_id','user_id','iso_week'])['iso_week'].size().to_frame('classifications')\n",
    "    classifications_by_week.hist(figsize=(12,12),bins=np.arange(0,classifications_by_week['classifications'].max(),bin_size))\n",
    "    plt.xlabel('Number of Classifications')\n",
    "    plt.ylabel('Number of Volunteer-Project-Weeks with X Classifications')\n",
    "    plt.tight_layout()\n",
    "    plt.title('Distribution of Classifications per Volunteer-Project-Week.  Bin size = {0}'.format(bin_size))"
   ]
  },
  {
   "cell_type": "code",
   "execution_count": 41,
   "metadata": {
    "collapsed": false
   },
   "outputs": [
    {
     "data": {
      "image/png": "[encoded data removed]",
      "text/plain": [
       "<matplotlib.figure.Figure at 0x7f3ba5359ba8>"
      ]
     },
     "metadata": {
      "needs_background": "light"
     },
     "output_type": "display_data"
    }
   ],
   "source": [
    "classifications_by_volunteer_by_week_hist(classification_df=classification_df.loc[classification_df['user_id'].notnull()])"
   ]
  },
  {
   "cell_type": "markdown",
   "metadata": {},
   "source": [
    "# Number of Projects Contributed to Per Volunteer"
   ]
  },
  {
   "cell_type": "code",
   "execution_count": 51,
   "metadata": {
    "collapsed": false,
    "scrolled": true
   },
   "outputs": [
    {
     "name": "stdout",
     "output_type": "stream",
     "text": [
      "Number of Projects per Volunteer\n",
      "\n",
      "count    69811.000000\n",
      "mean         1.941428\n",
      "std          2.299018\n",
      "min          1.000000\n",
      "25%          1.000000\n",
      "50%          1.000000\n",
      "75%          2.000000\n",
      "max         46.000000\n",
      "Name: panoptes_project_id, dtype: float64\n"
     ]
    }
   ],
   "source": [
    "print('Number of Projects per Volunteer\\n')\n",
    "print(classification_df.loc[classification_df['user_id'].notnull()].groupby('user_id')['panoptes_project_id'].nunique().describe())"
   ]
  },
  {
   "cell_type": "code",
   "execution_count": 52,
   "metadata": {
    "collapsed": false
   },
   "outputs": [
    {
     "name": "stdout",
     "output_type": "stream",
     "text": [
      "Number of Projects per Volunteer-Week\n",
      "\n",
      "count    156656.000000\n",
      "mean          1.353871\n",
      "std           0.912748\n",
      "min           1.000000\n",
      "25%           1.000000\n",
      "50%           1.000000\n",
      "75%           1.000000\n",
      "max          22.000000\n",
      "Name: panoptes_project_id, dtype: float64\n"
     ]
    }
   ],
   "source": [
    "print('Number of Projects per Volunteer-Week\\n')\n",
    "print(classification_df.loc[classification_df['user_id'].notnull()].groupby(['user_id','iso_week'])['panoptes_project_id'].nunique().describe())"
   ]
  },
  {
   "cell_type": "code",
   "execution_count": 53,
   "metadata": {
    "collapsed": false
   },
   "outputs": [
    {
     "name": "stdout",
     "output_type": "stream",
     "text": [
      "Projects per Volunteer-Week Percentiles\n",
      "\n"
     ]
    },
    {
     "data": {
      "text/plain": [
       "0.0    1.0\n",
       "0.1    1.0\n",
       "0.2    1.0\n",
       "0.3    1.0\n",
       "0.4    1.0\n",
       "0.5    1.0\n",
       "0.6    1.0\n",
       "0.7    1.0\n",
       "0.8    2.0\n",
       "0.9    2.0\n",
       "Name: panoptes_project_id, dtype: float64"
      ]
     },
     "execution_count": 53,
     "metadata": {},
     "output_type": "execute_result"
    }
   ],
   "source": [
    "print('Projects per Volunteer-Week Percentiles\\n')\n",
    "classification_df.loc[classification_df['user_id'].notnull()].groupby(['user_id','iso_week'])['panoptes_project_id'].nunique().quantile(np.arange(0,1,.1))"
   ]
  },
  {
   "cell_type": "code",
   "execution_count": null,
   "metadata": {
    "collapsed": true
   },
   "outputs": [],
   "source": []
  }
 ],
 "metadata": {
  "kernelspec": {
   "display_name": "Python 3",
   "language": "python",
   "name": "python3"
  },
  "language_info": {
   "codemirror_mode": {
    "name": "ipython",
    "version": 3
   },
   "file_extension": ".py",
   "mimetype": "text/x-python",
   "name": "python",
   "nbconvert_exporter": "python",
   "pygments_lexer": "ipython3",
   "version": "3.5.1"
  }
 },
 "nbformat": 4,
 "nbformat_minor": 2
}
