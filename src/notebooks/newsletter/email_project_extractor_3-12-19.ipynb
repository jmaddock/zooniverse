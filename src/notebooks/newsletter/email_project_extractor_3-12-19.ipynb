{
 "cells": [
  {
   "cell_type": "code",
   "execution_count": 1,
   "metadata": {
    "collapsed": true,
    "deletable": true,
    "editable": true
   },
   "outputs": [],
   "source": [
    "import mailbox\n",
    "from datetime import datetime\n",
    "from datetime import timedelta\n",
    "import re\n",
    "\n",
    "import pandas as pd\n",
    "import matplotlib.pyplot as plt\n",
    "import matplotlib\n",
    "import numpy as np\n",
    "matplotlib.style.use('ggplot')"
   ]
  },
  {
   "cell_type": "code",
   "execution_count": 2,
   "metadata": {
    "collapsed": true,
    "deletable": true,
    "editable": true
   },
   "outputs": [],
   "source": [
    "# load emails from file\n",
    "mbox = mailbox.mbox('/srv/zooniverse/raw_data/emails/zooniverse.mbox')"
   ]
  },
  {
   "cell_type": "code",
   "execution_count": 98,
   "metadata": {
    "collapsed": true,
    "deletable": true,
    "editable": true
   },
   "outputs": [],
   "source": [
    "# compiled regex for getting date sent from email dump\n",
    "date_match = re.compile('Date: .*')\n",
    "\n",
    "# extract the initial send date from the message body\n",
    "def parse_date(message):\n",
    "    date_string = re.findall(date_match, message)[0].split(', ',1)[1]\n",
    "    date_time = datetime.strptime(date_string,'%b %d, %Y at %I:%M %p')\n",
    "    return date_time\n",
    "\n",
    "# create a new column of timedeltas between rows\n",
    "def create_timedelta(df):\n",
    "    df = df.sort_values('date')\n",
    "    df['timedelta'] = df['date'].subtract(df['date'].shift(1))\n",
    "    return df[1:-1]"
   ]
  },
  {
   "cell_type": "code",
   "execution_count": 97,
   "metadata": {
    "collapsed": true,
    "deletable": true,
    "editable": true
   },
   "outputs": [],
   "source": [
    "# compiled regex for getting the name of the project from the url embedded in the email\n",
    "project_match = re.compile('<https://www.zooniverse.org/projects/(.*?)/(.*?)(\\?|>)',flags=re.DOTALL)\n",
    "\n",
    "# extract projects named by the email\n",
    "def extract_project_names(message):\n",
    "    project_string_list = re.findall(project_match, body)\n",
    "    project_string_set = set()\n",
    "    for project in project_string_list:\n",
    "        project_string_set.add(project[1].replace('-',' ').replace('=\\n','').replace('/talk',''))\n",
    "    return project_string_set"
   ]
  },
  {
   "cell_type": "code",
   "execution_count": 99,
   "metadata": {
    "collapsed": false,
    "deletable": true,
    "editable": true
   },
   "outputs": [],
   "source": [
    "# iterate through email dump and extract all send dates\n",
    "date_list = []\n",
    "project_list = []\n",
    "\n",
    "for m in mbox:\n",
    "    body = m.get_payload(0).as_string()\n",
    "    date = parse_date(body)\n",
    "    project = extract_project_names(body)\n",
    "    date_list.append(date)\n",
    "    project_list.append(project)"
   ]
  },
  {
   "cell_type": "code",
   "execution_count": 100,
   "metadata": {
    "collapsed": true,
    "deletable": true,
    "editable": true
   },
   "outputs": [],
   "source": [
    "# create a dataframe with timedeltas\n",
    "df = pd.DataFrame({'date':date_list,'project':project_list})\n",
    "df = create_timedelta(df)"
   ]
  },
  {
   "cell_type": "code",
   "execution_count": 115,
   "metadata": {
    "collapsed": false,
    "deletable": true,
    "editable": true
   },
   "outputs": [],
   "source": [
    "def expand(df):\n",
    "    df = df.reset_index(drop=True)\n",
    "    expanded_df = df.apply(lambda x: pd.Series(list(x['project'])),axis=1).stack().reset_index(level=1, drop=True)\n",
    "    expanded_df.name = 'project'\n",
    "    return df.drop('project', axis=1).join(expanded_df)\n"
   ]
  },
  {
   "cell_type": "code",
   "execution_count": 116,
   "metadata": {
    "collapsed": false,
    "deletable": true,
    "editable": true
   },
   "outputs": [],
   "source": [
    "expand(df).to_csv('/srv/zooniverse/tables/emails.csv',index=False)"
   ]
  }
 ],
 "metadata": {
  "kernelspec": {
   "display_name": "Python 3",
   "language": "python",
   "name": "python3"
  },
  "language_info": {
   "codemirror_mode": {
    "name": "ipython",
    "version": 3
   },
   "file_extension": ".py",
   "mimetype": "text/x-python",
   "name": "python",
   "nbconvert_exporter": "python",
   "pygments_lexer": "ipython3",
   "version": "3.5.1"
  }
 },
 "nbformat": 4,
 "nbformat_minor": 2
}
