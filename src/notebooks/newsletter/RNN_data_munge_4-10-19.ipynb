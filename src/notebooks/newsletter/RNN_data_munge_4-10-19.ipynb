{
 "cells": [
  {
   "cell_type": "code",
   "execution_count": 65,
   "metadata": {
    "collapsed": false,
    "deletable": true,
    "editable": true
   },
   "outputs": [],
   "source": [
    "from datetime import datetime\n",
    "from datetime import timedelta\n",
    "\n",
    "import pandas as pd\n",
    "import matplotlib.pyplot as plt\n",
    "import matplotlib\n",
    "import numpy as np\n",
    "matplotlib.style.use('ggplot')\n",
    "\n",
    "from sklearn.linear_model import LinearRegression"
   ]
  },
  {
   "cell_type": "markdown",
   "metadata": {
    "deletable": true,
    "editable": true
   },
   "source": [
    "# Load and Clean Data"
   ]
  },
  {
   "cell_type": "code",
   "execution_count": 2,
   "metadata": {
    "collapsed": true,
    "deletable": true,
    "editable": true
   },
   "outputs": [],
   "source": [
    "email_df = pd.read_csv('/srv/zooniverse/tables/emails.csv')\n",
    "category_df = pd.read_csv('/srv/zooniverse/tables/project_categories_3-12-19.csv')\n",
    "project_df = pd.read_csv('/srv/zooniverse/tables/all_projects_table_02-18-19.csv')"
   ]
  },
  {
   "cell_type": "code",
   "execution_count": 3,
   "metadata": {
    "collapsed": true,
    "deletable": true,
    "editable": true
   },
   "outputs": [],
   "source": [
    "# only use \"official\" projects and classifications\n",
    "project_df = project_df.loc[(project_df['panoptes_api_official_project'] == 1)]\n",
    "\n",
    "# only include panoptes projects that also have classification data\n",
    "project_df = project_df.loc[(project_df['panoptes_dump'] == 1) & (project_df['panoptes_api'] == 1)]\n",
    "\n",
    "# convert email timestamp to datetime\n",
    "email_df['date'] = pd.to_datetime(email_df['date'])\n",
    "\n",
    "#lowercase project names\n",
    "email_df['project'] = email_df['project'].str.lower()\n",
    "category_df['project_name'] = category_df['project_name'].str.lower()\n",
    "project_df['panoptes_project_name'] = project_df['panoptes_project_name'].str.lower()"
   ]
  },
  {
   "cell_type": "code",
   "execution_count": 4,
   "metadata": {
    "collapsed": true,
    "deletable": true,
    "editable": true
   },
   "outputs": [],
   "source": [
    "# get names of projects for which we have email, category, and classification data\n",
    "overlapping_projects = category_df.loc[(category_df['project_name'].str.lower().isin(project_df['panoptes_project_name'].str.lower())) & (category_df['project_name'].str.lower().isin(email_df['project'].str.lower()))][['project_name']]"
   ]
  },
  {
   "cell_type": "code",
   "execution_count": 5,
   "metadata": {
    "collapsed": false,
    "deletable": true,
    "editable": true
   },
   "outputs": [
    {
     "name": "stderr",
     "output_type": "stream",
     "text": [
      "/home/sjm668/dev/zooniverse/src/venv/lib/python3.5/site-packages/IPython/core/interactiveshell.py:2717: DtypeWarning: Columns (0,7,8) have mixed types. Specify dtype option on import or set low_memory=False.\n",
      "  interactivity=interactivity, compiler=compiler, result=result)\n"
     ]
    }
   ],
   "source": [
    "# load classification df\n",
    "classification_df = pd.read_csv('/srv/zooniverse/tables/all_classifications_table_02-18-19.csv')"
   ]
  },
  {
   "cell_type": "code",
   "execution_count": 6,
   "metadata": {
    "collapsed": true,
    "deletable": true,
    "editable": true
   },
   "outputs": [],
   "source": [
    "# only use \"official\" projects and classifications\n",
    "classification_df = classification_df.loc[classification_df['panoptes_api_official_project'] == 1]\n",
    "\n",
    "# add name column to classification_df\n",
    "classification_df = classification_df.merge(project_df[['panoptes_project_name','panoptes_project_id']],on='panoptes_project_id')\n",
    "\n",
    "# online use projects with email, category, and classification data\n",
    "classification_df = classification_df.loc[classification_df['panoptes_project_name'].str.lower().isin(overlapping_projects['project_name'].str.lower())]\n",
    "\n",
    "# convert classification timestamp to datetime\n",
    "classification_df['created_at'] = pd.to_datetime(classification_df['created_at'])"
   ]
  },
  {
   "cell_type": "code",
   "execution_count": 7,
   "metadata": {
    "collapsed": true,
    "deletable": true,
    "editable": true
   },
   "outputs": [],
   "source": [
    "def get_weeks(x):\n",
    "    return x.isocalendar()[0]*52+x.isocalendar()[1]\n",
    "\n",
    "classification_df['iso_week'] = classification_df['created_at'].apply(get_weeks)\n",
    "email_df['iso_week'] = email_df['date'].apply(get_weeks)"
   ]
  },
  {
   "cell_type": "code",
   "execution_count": 8,
   "metadata": {
    "collapsed": true,
    "deletable": true,
    "editable": true
   },
   "outputs": [],
   "source": [
    "def count_classifications_per_week(classification_df):\n",
    "    # grouby weeks and count classifications per week\n",
    "    classifications_by_week = classification_df.groupby(['panoptes_project_name','iso_week'])['iso_week'].size().to_frame('classifications')\n",
    "    # reindex to fill missing values\n",
    "    classifications_by_week = classifications_by_week.reindex(pd.MultiIndex.from_product(classifications_by_week.index.levels, names=classifications_by_week.index.names))\n",
    "    classifications_by_week.reset_index(inplace=True)\n",
    "    # switch NaN to 0\n",
    "    classifications_by_week['classifications'] = classifications_by_week['classifications'].fillna(0)\n",
    "    return classifications_by_week\n",
    "\n",
    "# grouby weeks and count classifications per week\n",
    "classifications_by_week = count_classifications_per_week(classification_df)"
   ]
  },
  {
   "cell_type": "code",
   "execution_count": 9,
   "metadata": {
    "collapsed": false,
    "deletable": true,
    "editable": true
   },
   "outputs": [],
   "source": [
    "# remove emails sent later than panoptes classification data\n",
    "email_df = email_df.loc[email_df['iso_week'] < classification_df['iso_week'].max()]"
   ]
  },
  {
   "cell_type": "code",
   "execution_count": 10,
   "metadata": {
    "collapsed": false,
    "deletable": true,
    "editable": true
   },
   "outputs": [],
   "source": [
    "# remove duplicate email\n",
    "email_df = email_df.drop_duplicates(subset=['project','iso_week'])"
   ]
  },
  {
   "cell_type": "markdown",
   "metadata": {
    "deletable": true,
    "editable": true
   },
   "source": [
    "# Don't run this"
   ]
  },
  {
   "cell_type": "code",
   "execution_count": 45,
   "metadata": {
    "collapsed": true,
    "deletable": true,
    "editable": true
   },
   "outputs": [],
   "source": [
    "# remove emails from subsequent weeks\n",
    "email_df = email_df.loc[~email_df['iso_week'].isin(email_df['iso_week'].add(1))]"
   ]
  },
  {
   "cell_type": "markdown",
   "metadata": {
    "deletable": true,
    "editable": true
   },
   "source": [
    "# Transform Data"
   ]
  },
  {
   "cell_type": "code",
   "execution_count": 11,
   "metadata": {
    "collapsed": false,
    "deletable": true,
    "editable": true
   },
   "outputs": [],
   "source": [
    "# log transform classifications\n",
    "log_classifications_by_week = classifications_by_week.copy()\n",
    "log_classifications_by_week['classifications'] = np.log1p(classifications_by_week['classifications'])"
   ]
  },
  {
   "cell_type": "code",
   "execution_count": 99,
   "metadata": {
    "collapsed": false
   },
   "outputs": [],
   "source": [
    "def clean_set(x):\n",
    "    return x[1:-1].replace(\"'\",\"\").replace(' ','').replace(',','|')\n",
    "\n",
    "def split_set(x):\n",
    "    return x.split('|')\n",
    "\n",
    "def remove_zeros(df):\n",
    "    df = df.loc[df.groupby('panoptes_project_name')['classifications'].transform('sum') > 0]\n",
    "    return df\n",
    "\n",
    "def filter_by_category(classifications_by_week, email_df, category_df, bandwidth):\n",
    "    \n",
    "    # make sure the column names match and merge w/ categories\n",
    "    email_category_df = add_email_offset(email_df).merge(category_df.rename(columns={'project_name':'project'}),on='project')\n",
    "    classification_category_df = classifications_by_week.merge(category_df.rename(columns={'project_name':'panoptes_project_name'}),on='panoptes_project_name')\n",
    "\n",
    "    # turn the category column into a list\n",
    "    email_category_df['categories'] = email_category_df['categories'].apply(clean_set).apply(split_set)\n",
    "\n",
    "    result = pd.DataFrame()\n",
    "    \n",
    "    #iterate through all emails in the email df\n",
    "    for email in email_category_df.itertuples():\n",
    "        #iterate trhough each week in the bandwidth\n",
    "        for offset in range(-bandwidth,bandwidth):\n",
    "            # get the number of classifcations for each project for a given week\n",
    "            classification_chunk = classification_category_df.loc[classification_category_df['iso_week'] == email.iso_week + offset]\n",
    "            # calculate the relative week, create rel_week column\n",
    "            classification_chunk['rel_week'] = offset\n",
    "            # calculate whether the newsletter has been sent, create newsletter column\n",
    "            if offset < 0:\n",
    "                classification_chunk['newsletter'] = 0\n",
    "            else:\n",
    "                classification_chunk['newsletter'] = 1\n",
    "            # create targeted column\n",
    "            classification_chunk.loc[classification_chunk['panoptes_project_name'] == email.project,'targeted'] = 1\n",
    "            classification_chunk['targeted'].fillna(0,inplace=True)\n",
    "            # iterate through all the targeted project's catefories\n",
    "            for category in email.categories:\n",
    "                # create targeted_topic colunm\n",
    "                classification_chunk.loc[classification_chunk['categories'].str.contains(category),'targeted_topic'] = 1\n",
    "            classification_chunk['targeted_topic'].fillna(0,inplace=True)            \n",
    "            \n",
    "            result = result.append(classification_chunk)\n",
    "        \n",
    "        #remove all project weeks where 0 classifications were made over the entire bandwidth\n",
    "        result = remove_zeros(result)\n",
    "        \n",
    "    #result = result.merge(result['panoptes_project_name'].str.get_dummies(), left_index=True, right_index=True)\n",
    "    return result"
   ]
  },
  {
   "cell_type": "code",
   "execution_count": 102,
   "metadata": {
    "collapsed": false
   },
   "outputs": [
    {
     "name": "stderr",
     "output_type": "stream",
     "text": [
      "/home/sjm668/dev/zooniverse/src/venv/lib/python3.5/site-packages/ipykernel_launcher.py:29: SettingWithCopyWarning: \n",
      "A value is trying to be set on a copy of a slice from a DataFrame.\n",
      "Try using .loc[row_indexer,col_indexer] = value instead\n",
      "\n",
      "See the caveats in the documentation: http://pandas.pydata.org/pandas-docs/stable/indexing.html#indexing-view-versus-copy\n",
      "/home/sjm668/dev/zooniverse/src/venv/lib/python3.5/site-packages/ipykernel_launcher.py:32: SettingWithCopyWarning: \n",
      "A value is trying to be set on a copy of a slice from a DataFrame.\n",
      "Try using .loc[row_indexer,col_indexer] = value instead\n",
      "\n",
      "See the caveats in the documentation: http://pandas.pydata.org/pandas-docs/stable/indexing.html#indexing-view-versus-copy\n",
      "/home/sjm668/dev/zooniverse/src/venv/lib/python3.5/site-packages/pandas/core/indexing.py:297: SettingWithCopyWarning: \n",
      "A value is trying to be set on a copy of a slice from a DataFrame.\n",
      "Try using .loc[row_indexer,col_indexer] = value instead\n",
      "\n",
      "See the caveats in the documentation: http://pandas.pydata.org/pandas-docs/stable/indexing.html#indexing-view-versus-copy\n",
      "  self.obj[key] = _infer_fill_value(value)\n",
      "/home/sjm668/dev/zooniverse/src/venv/lib/python3.5/site-packages/pandas/core/indexing.py:477: SettingWithCopyWarning: \n",
      "A value is trying to be set on a copy of a slice from a DataFrame.\n",
      "Try using .loc[row_indexer,col_indexer] = value instead\n",
      "\n",
      "See the caveats in the documentation: http://pandas.pydata.org/pandas-docs/stable/indexing.html#indexing-view-versus-copy\n",
      "  self.obj[item] = s\n",
      "/home/sjm668/dev/zooniverse/src/venv/lib/python3.5/site-packages/pandas/core/generic.py:3295: SettingWithCopyWarning: \n",
      "A value is trying to be set on a copy of a slice from a DataFrame\n",
      "\n",
      "See the caveats in the documentation: http://pandas.pydata.org/pandas-docs/stable/indexing.html#indexing-view-versus-copy\n",
      "  self._update_inplace(new_data)\n",
      "/home/sjm668/dev/zooniverse/src/venv/lib/python3.5/site-packages/ipykernel_launcher.py:34: SettingWithCopyWarning: \n",
      "A value is trying to be set on a copy of a slice from a DataFrame.\n",
      "Try using .loc[row_indexer,col_indexer] = value instead\n",
      "\n",
      "See the caveats in the documentation: http://pandas.pydata.org/pandas-docs/stable/indexing.html#indexing-view-versus-copy\n"
     ]
    }
   ],
   "source": [
    "rdd_df = filter_by_category(classifications_by_week=log_classifications_by_week,\n",
    "                            email_df=email_df,\n",
    "                            category_df=category_df,\n",
    "                            bandwidth=1)\n",
    "rdd_df.to_csv('/srv/zooniverse/pre_regression/4-10-19.csv')"
   ]
  },
  {
   "cell_type": "code",
   "execution_count": 103,
   "metadata": {
    "collapsed": false
   },
   "outputs": [
    {
     "name": "stderr",
     "output_type": "stream",
     "text": [
      "/home/sjm668/dev/zooniverse/src/venv/lib/python3.5/site-packages/ipykernel_launcher.py:29: SettingWithCopyWarning: \n",
      "A value is trying to be set on a copy of a slice from a DataFrame.\n",
      "Try using .loc[row_indexer,col_indexer] = value instead\n",
      "\n",
      "See the caveats in the documentation: http://pandas.pydata.org/pandas-docs/stable/indexing.html#indexing-view-versus-copy\n",
      "/home/sjm668/dev/zooniverse/src/venv/lib/python3.5/site-packages/ipykernel_launcher.py:32: SettingWithCopyWarning: \n",
      "A value is trying to be set on a copy of a slice from a DataFrame.\n",
      "Try using .loc[row_indexer,col_indexer] = value instead\n",
      "\n",
      "See the caveats in the documentation: http://pandas.pydata.org/pandas-docs/stable/indexing.html#indexing-view-versus-copy\n",
      "/home/sjm668/dev/zooniverse/src/venv/lib/python3.5/site-packages/pandas/core/indexing.py:297: SettingWithCopyWarning: \n",
      "A value is trying to be set on a copy of a slice from a DataFrame.\n",
      "Try using .loc[row_indexer,col_indexer] = value instead\n",
      "\n",
      "See the caveats in the documentation: http://pandas.pydata.org/pandas-docs/stable/indexing.html#indexing-view-versus-copy\n",
      "  self.obj[key] = _infer_fill_value(value)\n",
      "/home/sjm668/dev/zooniverse/src/venv/lib/python3.5/site-packages/pandas/core/indexing.py:477: SettingWithCopyWarning: \n",
      "A value is trying to be set on a copy of a slice from a DataFrame.\n",
      "Try using .loc[row_indexer,col_indexer] = value instead\n",
      "\n",
      "See the caveats in the documentation: http://pandas.pydata.org/pandas-docs/stable/indexing.html#indexing-view-versus-copy\n",
      "  self.obj[item] = s\n",
      "/home/sjm668/dev/zooniverse/src/venv/lib/python3.5/site-packages/pandas/core/generic.py:3295: SettingWithCopyWarning: \n",
      "A value is trying to be set on a copy of a slice from a DataFrame\n",
      "\n",
      "See the caveats in the documentation: http://pandas.pydata.org/pandas-docs/stable/indexing.html#indexing-view-versus-copy\n",
      "  self._update_inplace(new_data)\n",
      "/home/sjm668/dev/zooniverse/src/venv/lib/python3.5/site-packages/ipykernel_launcher.py:34: SettingWithCopyWarning: \n",
      "A value is trying to be set on a copy of a slice from a DataFrame.\n",
      "Try using .loc[row_indexer,col_indexer] = value instead\n",
      "\n",
      "See the caveats in the documentation: http://pandas.pydata.org/pandas-docs/stable/indexing.html#indexing-view-versus-copy\n"
     ]
    }
   ],
   "source": [
    "rdd_df = filter_by_category(classifications_by_week=log_classifications_by_week,\n",
    "                            email_df=email_df,\n",
    "                            category_df=category_df,\n",
    "                            bandwidth=2)\n",
    "rdd_df.to_csv('/srv/zooniverse/pre_regression/bandwodth_2_4-10-19.csv')"
   ]
  },
  {
   "cell_type": "code",
   "execution_count": 104,
   "metadata": {
    "collapsed": false
   },
   "outputs": [
    {
     "name": "stderr",
     "output_type": "stream",
     "text": [
      "/home/sjm668/dev/zooniverse/src/venv/lib/python3.5/site-packages/ipykernel_launcher.py:29: SettingWithCopyWarning: \n",
      "A value is trying to be set on a copy of a slice from a DataFrame.\n",
      "Try using .loc[row_indexer,col_indexer] = value instead\n",
      "\n",
      "See the caveats in the documentation: http://pandas.pydata.org/pandas-docs/stable/indexing.html#indexing-view-versus-copy\n",
      "/home/sjm668/dev/zooniverse/src/venv/lib/python3.5/site-packages/ipykernel_launcher.py:32: SettingWithCopyWarning: \n",
      "A value is trying to be set on a copy of a slice from a DataFrame.\n",
      "Try using .loc[row_indexer,col_indexer] = value instead\n",
      "\n",
      "See the caveats in the documentation: http://pandas.pydata.org/pandas-docs/stable/indexing.html#indexing-view-versus-copy\n",
      "/home/sjm668/dev/zooniverse/src/venv/lib/python3.5/site-packages/pandas/core/indexing.py:297: SettingWithCopyWarning: \n",
      "A value is trying to be set on a copy of a slice from a DataFrame.\n",
      "Try using .loc[row_indexer,col_indexer] = value instead\n",
      "\n",
      "See the caveats in the documentation: http://pandas.pydata.org/pandas-docs/stable/indexing.html#indexing-view-versus-copy\n",
      "  self.obj[key] = _infer_fill_value(value)\n",
      "/home/sjm668/dev/zooniverse/src/venv/lib/python3.5/site-packages/pandas/core/indexing.py:477: SettingWithCopyWarning: \n",
      "A value is trying to be set on a copy of a slice from a DataFrame.\n",
      "Try using .loc[row_indexer,col_indexer] = value instead\n",
      "\n",
      "See the caveats in the documentation: http://pandas.pydata.org/pandas-docs/stable/indexing.html#indexing-view-versus-copy\n",
      "  self.obj[item] = s\n",
      "/home/sjm668/dev/zooniverse/src/venv/lib/python3.5/site-packages/pandas/core/generic.py:3295: SettingWithCopyWarning: \n",
      "A value is trying to be set on a copy of a slice from a DataFrame\n",
      "\n",
      "See the caveats in the documentation: http://pandas.pydata.org/pandas-docs/stable/indexing.html#indexing-view-versus-copy\n",
      "  self._update_inplace(new_data)\n",
      "/home/sjm668/dev/zooniverse/src/venv/lib/python3.5/site-packages/ipykernel_launcher.py:34: SettingWithCopyWarning: \n",
      "A value is trying to be set on a copy of a slice from a DataFrame.\n",
      "Try using .loc[row_indexer,col_indexer] = value instead\n",
      "\n",
      "See the caveats in the documentation: http://pandas.pydata.org/pandas-docs/stable/indexing.html#indexing-view-versus-copy\n"
     ]
    }
   ],
   "source": [
    "rdd_df = filter_by_category(classifications_by_week=log_classifications_by_week,\n",
    "                            email_df=email_df,\n",
    "                            category_df=category_df,\n",
    "                            bandwidth=3)\n",
    "rdd_df.to_csv('/srv/zooniverse/pre_regression/bandwodth_3_4-10-19.csv')"
   ]
  },
  {
   "cell_type": "code",
   "execution_count": null,
   "metadata": {
    "collapsed": true
   },
   "outputs": [],
   "source": []
  }
 ],
 "metadata": {
  "kernelspec": {
   "display_name": "Python 3",
   "language": "python",
   "name": "python3"
  },
  "language_info": {
   "codemirror_mode": {
    "name": "ipython",
    "version": 3
   },
   "file_extension": ".py",
   "mimetype": "text/x-python",
   "name": "python",
   "nbconvert_exporter": "python",
   "pygments_lexer": "ipython3",
   "version": "3.5.1"
  }
 },
 "nbformat": 4,
 "nbformat_minor": 2
}
